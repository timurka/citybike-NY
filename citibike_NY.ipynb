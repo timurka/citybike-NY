{
  "nbformat": 4,
  "nbformat_minor": 0,
  "metadata": {
    "colab": {
      "provenance": []
    },
    "kernelspec": {
      "name": "python3",
      "display_name": "Python 3"
    },
    "language_info": {
      "name": "python"
    }
  },
  "cells": [
    {
      "cell_type": "markdown",
      "source": [
        "# Исследование аренды велосипедов в Нью-Йорке. Citibike за сентябрь-октябрь 2022"
      ],
      "metadata": {
        "id": "eurksxUOtEJu"
      }
    },
    {
      "cell_type": "markdown",
      "source": [
        "**Задачи:** \n",
        "* Сделать исследовательский анализ данных велопроката в Нью-Йорке (США) за сентябрь-октябрь 2022 года. \n",
        "* Исследовать корреляции с внешними данными. \n",
        "* Построить дашборд в DataLens с основными показателями и выводами\n",
        "\n",
        "Готовый дашборд с выводами - https://datalens.yandex.ru/3oe7x2bnzxtcu-dashboard-ny-bike?tab=1M"
      ],
      "metadata": {
        "id": "NtxRYcmLtRfd"
      }
    },
    {
      "cell_type": "code",
      "source": [
        "from google.colab import drive\n",
        "drive.mount('/content/drive')"
      ],
      "metadata": {
        "colab": {
          "base_uri": "https://localhost:8080/"
        },
        "id": "4--zwS4ga4Qb",
        "outputId": "4ce924e7-947e-48f7-a643-57ecc07a62e9"
      },
      "execution_count": null,
      "outputs": [
        {
          "output_type": "stream",
          "name": "stdout",
          "text": [
            "Mounted at /content/drive\n"
          ]
        }
      ]
    },
    {
      "cell_type": "code",
      "source": [
        "!pip install mysql-connector-python\n",
        "!pip install pymysql"
      ],
      "metadata": {
        "colab": {
          "base_uri": "https://localhost:8080/"
        },
        "id": "3Aqn9ot6PD96",
        "outputId": "77d9e49b-70a7-471d-a857-9731fa428a46"
      },
      "execution_count": null,
      "outputs": [
        {
          "output_type": "stream",
          "name": "stdout",
          "text": [
            "Looking in indexes: https://pypi.org/simple, https://us-python.pkg.dev/colab-wheels/public/simple/\n",
            "Collecting mysql-connector-python\n",
            "  Downloading mysql_connector_python-8.0.31-cp37-cp37m-manylinux1_x86_64.whl (23.5 MB)\n",
            "\u001b[K     |████████████████████████████████| 23.5 MB 1.4 MB/s \n",
            "\u001b[?25hRequirement already satisfied: protobuf<=3.20.1,>=3.11.0 in /usr/local/lib/python3.7/dist-packages (from mysql-connector-python) (3.19.6)\n",
            "Installing collected packages: mysql-connector-python\n",
            "Successfully installed mysql-connector-python-8.0.31\n",
            "Looking in indexes: https://pypi.org/simple, https://us-python.pkg.dev/colab-wheels/public/simple/\n",
            "Collecting pymysql\n",
            "  Downloading PyMySQL-1.0.2-py3-none-any.whl (43 kB)\n",
            "\u001b[K     |████████████████████████████████| 43 kB 1.8 MB/s \n",
            "\u001b[?25hInstalling collected packages: pymysql\n",
            "Successfully installed pymysql-1.0.2\n"
          ]
        }
      ]
    },
    {
      "cell_type": "code",
      "source": [
        "import pandas as pd\n",
        "import numpy as np\n",
        "from scipy import stats as st\n",
        "import glob\n",
        "import os\n",
        "import matplotlib.pyplot as plt\n",
        "import seaborn as sns\n",
        "\n",
        "import geopy.distance\n",
        "\n",
        "from sqlalchemy import create_engine\n",
        "from sqlalchemy import exc\n",
        "import pymysql"
      ],
      "metadata": {
        "id": "7h8BwNlHbE9O"
      },
      "execution_count": null,
      "outputs": []
    },
    {
      "cell_type": "code",
      "source": [
        "# Подключение к БД\n",
        "def db_connect():\n",
        "  # Connection to MySQL database\n",
        "  try:\n",
        "    mydb = create_engine(\"mysql+pymysql://\")\n",
        "    print(\"Connected mysql\")\n",
        "    return mydb\n",
        "  except exc.SQLAlchemyError as e:\n",
        "    print(type(e))\n",
        "    return false"
      ],
      "metadata": {
        "id": "1sT3XJA0PI7z"
      },
      "execution_count": null,
      "outputs": []
    },
    {
      "cell_type": "markdown",
      "source": [
        "# Citibike"
      ],
      "metadata": {
        "id": "FsMlvWW6vfri"
      }
    },
    {
      "cell_type": "code",
      "source": [
        "# Импортируем в цикле несколько датасетов за разные месяцы\n",
        "data = pd.concat(map(pd.read_csv, glob.glob(os.path.join('', \"/content/drive/MyDrive/Data analyst/ride/JC*.csv\"))))\n",
        "data.shape"
      ],
      "metadata": {
        "colab": {
          "base_uri": "https://localhost:8080/"
        },
        "id": "gZgLIL3SbGAL",
        "outputId": "50383c7c-9242-437c-9117-75821beea48c"
      },
      "execution_count": null,
      "outputs": [
        {
          "output_type": "execute_result",
          "data": {
            "text/plain": [
              "(193805, 13)"
            ]
          },
          "metadata": {},
          "execution_count": 12
        }
      ]
    },
    {
      "cell_type": "code",
      "source": [
        "data.info()"
      ],
      "metadata": {
        "colab": {
          "base_uri": "https://localhost:8080/"
        },
        "id": "SbvDF5k8bNgR",
        "outputId": "683def47-9289-481a-e0e0-71aa86bce051"
      },
      "execution_count": null,
      "outputs": [
        {
          "output_type": "stream",
          "name": "stdout",
          "text": [
            "<class 'pandas.core.frame.DataFrame'>\n",
            "Int64Index: 193805 entries, 0 to 89557\n",
            "Data columns (total 13 columns):\n",
            " #   Column              Non-Null Count   Dtype  \n",
            "---  ------              --------------   -----  \n",
            " 0   ride_id             193805 non-null  object \n",
            " 1   rideable_type       193805 non-null  object \n",
            " 2   started_at          193805 non-null  object \n",
            " 3   ended_at            193805 non-null  object \n",
            " 4   start_station_name  193805 non-null  object \n",
            " 5   start_station_id    193805 non-null  object \n",
            " 6   end_station_name    193097 non-null  object \n",
            " 7   end_station_id      193097 non-null  object \n",
            " 8   start_lat           193805 non-null  float64\n",
            " 9   start_lng           193805 non-null  float64\n",
            " 10  end_lat             193481 non-null  float64\n",
            " 11  end_lng             193481 non-null  float64\n",
            " 12  member_casual       193805 non-null  object \n",
            "dtypes: float64(4), object(9)\n",
            "memory usage: 20.7+ MB\n"
          ]
        }
      ]
    },
    {
      "cell_type": "code",
      "source": [
        "# Переводим колонки в дату и время\n",
        "data['started_at'] =  pd.to_datetime(data['started_at'])\n",
        "data['ended_at'] =  pd.to_datetime(data['ended_at'])\n",
        "data[['started_at', 'ended_at']].info()"
      ],
      "metadata": {
        "colab": {
          "base_uri": "https://localhost:8080/"
        },
        "id": "txJqJYv8c0UE",
        "outputId": "8e8adf9f-4aab-4c43-b282-76a7351787ee"
      },
      "execution_count": null,
      "outputs": [
        {
          "output_type": "stream",
          "name": "stdout",
          "text": [
            "<class 'pandas.core.frame.DataFrame'>\n",
            "Int64Index: 193805 entries, 0 to 89557\n",
            "Data columns (total 2 columns):\n",
            " #   Column      Non-Null Count   Dtype         \n",
            "---  ------      --------------   -----         \n",
            " 0   started_at  193805 non-null  datetime64[ns]\n",
            " 1   ended_at    193805 non-null  datetime64[ns]\n",
            "dtypes: datetime64[ns](2)\n",
            "memory usage: 4.4 MB\n"
          ]
        }
      ]
    },
    {
      "cell_type": "code",
      "source": [
        "# Рассчитываем длительность поездки в минутах и округляем\n",
        "data['duration'] = pd.to_datetime(data['ended_at']) - pd.to_datetime(data['started_at'])\n",
        "data['duration'] = round(data['duration'] / pd.Timedelta('60s'), 2)"
      ],
      "metadata": {
        "id": "WNUNLa-O11Nv"
      },
      "execution_count": null,
      "outputs": []
    },
    {
      "cell_type": "code",
      "source": [
        "# Создаём колонки с датой старта и окончания, где уберём время\n",
        "data['start_date'] = pd.to_datetime(data['started_at']).dt.strftime('%Y-%m-%d')\n",
        "data['end_date'] = pd.to_datetime(data['ended_at']).dt.strftime('%Y-%m-%d')"
      ],
      "metadata": {
        "id": "fDv5E4dT9Pcv"
      },
      "execution_count": null,
      "outputs": []
    },
    {
      "cell_type": "code",
      "source": [
        "data.sample(5)"
      ],
      "metadata": {
        "colab": {
          "base_uri": "https://localhost:8080/",
          "height": 444
        },
        "id": "x1SAX9mFdFCh",
        "outputId": "3b59d4cb-7db5-4570-b7d3-b0ef9af04eb4"
      },
      "execution_count": null,
      "outputs": [
        {
          "output_type": "execute_result",
          "data": {
            "text/plain": [
              "                ride_id rideable_type          started_at            ended_at  \\\n",
              "99229  BF2C133D7FF07AFB  classic_bike 2022-09-23 13:47:22 2022-09-23 13:50:52   \n",
              "43460  E31350AE93FB12E3  classic_bike 2022-10-12 19:44:10 2022-10-12 19:45:58   \n",
              "19751  3D1BF39CA4D4D5AC  classic_bike 2022-09-24 14:11:59 2022-09-24 14:20:46   \n",
              "11003  6099657CF5BB0F91  classic_bike 2022-09-29 07:56:04 2022-09-29 07:59:30   \n",
              "89479  33FEEEEF31E28FA8  classic_bike 2022-10-12 09:13:49 2022-10-12 09:40:15   \n",
              "\n",
              "          start_station_name start_station_id  \\\n",
              "99229          Grove St PATH            JC005   \n",
              "43460           Newport Pkwy            JC008   \n",
              "19751      Madison St & 1 St            HB402   \n",
              "11003        Jersey & 6th St            JC027   \n",
              "89479  Bloomfield St & 15 St            HB203   \n",
              "\n",
              "                                   end_station_name end_station_id  start_lat  \\\n",
              "99229                                Van Vorst Park          JC035  40.719586   \n",
              "43460                                  Newport PATH          JC066  40.728732   \n",
              "19751  South Waterfront Walkway - Sinatra Dr & 1 St          HB103  40.738705   \n",
              "11003                                 Grove St PATH          JC005  40.725289   \n",
              "89479                       W 16 St & The High Line        6233.05  40.754530   \n",
              "\n",
              "       start_lng    end_lat    end_lng member_casual  duration  start_date  \\\n",
              "99229 -74.043117  40.718489 -74.047727        member      3.50  2022-09-23   \n",
              "43460 -74.032036  40.727224 -74.033759        member      1.80  2022-10-12   \n",
              "19751 -74.039165  40.736982 -74.027781        member      8.78  2022-09-24   \n",
              "11003 -74.045572  40.719586 -74.043117        member      3.43  2022-09-29   \n",
              "89479 -74.026580  40.743349 -74.006818        member     26.43  2022-10-12   \n",
              "\n",
              "         end_date  \n",
              "99229  2022-09-23  \n",
              "43460  2022-10-12  \n",
              "19751  2022-09-24  \n",
              "11003  2022-09-29  \n",
              "89479  2022-10-12  "
            ],
            "text/html": [
              "\n",
              "  <div id=\"df-b80947d2-3a05-41d6-a893-676aace95819\">\n",
              "    <div class=\"colab-df-container\">\n",
              "      <div>\n",
              "<style scoped>\n",
              "    .dataframe tbody tr th:only-of-type {\n",
              "        vertical-align: middle;\n",
              "    }\n",
              "\n",
              "    .dataframe tbody tr th {\n",
              "        vertical-align: top;\n",
              "    }\n",
              "\n",
              "    .dataframe thead th {\n",
              "        text-align: right;\n",
              "    }\n",
              "</style>\n",
              "<table border=\"1\" class=\"dataframe\">\n",
              "  <thead>\n",
              "    <tr style=\"text-align: right;\">\n",
              "      <th></th>\n",
              "      <th>ride_id</th>\n",
              "      <th>rideable_type</th>\n",
              "      <th>started_at</th>\n",
              "      <th>ended_at</th>\n",
              "      <th>start_station_name</th>\n",
              "      <th>start_station_id</th>\n",
              "      <th>end_station_name</th>\n",
              "      <th>end_station_id</th>\n",
              "      <th>start_lat</th>\n",
              "      <th>start_lng</th>\n",
              "      <th>end_lat</th>\n",
              "      <th>end_lng</th>\n",
              "      <th>member_casual</th>\n",
              "      <th>duration</th>\n",
              "      <th>start_date</th>\n",
              "      <th>end_date</th>\n",
              "    </tr>\n",
              "  </thead>\n",
              "  <tbody>\n",
              "    <tr>\n",
              "      <th>99229</th>\n",
              "      <td>BF2C133D7FF07AFB</td>\n",
              "      <td>classic_bike</td>\n",
              "      <td>2022-09-23 13:47:22</td>\n",
              "      <td>2022-09-23 13:50:52</td>\n",
              "      <td>Grove St PATH</td>\n",
              "      <td>JC005</td>\n",
              "      <td>Van Vorst Park</td>\n",
              "      <td>JC035</td>\n",
              "      <td>40.719586</td>\n",
              "      <td>-74.043117</td>\n",
              "      <td>40.718489</td>\n",
              "      <td>-74.047727</td>\n",
              "      <td>member</td>\n",
              "      <td>3.50</td>\n",
              "      <td>2022-09-23</td>\n",
              "      <td>2022-09-23</td>\n",
              "    </tr>\n",
              "    <tr>\n",
              "      <th>43460</th>\n",
              "      <td>E31350AE93FB12E3</td>\n",
              "      <td>classic_bike</td>\n",
              "      <td>2022-10-12 19:44:10</td>\n",
              "      <td>2022-10-12 19:45:58</td>\n",
              "      <td>Newport Pkwy</td>\n",
              "      <td>JC008</td>\n",
              "      <td>Newport PATH</td>\n",
              "      <td>JC066</td>\n",
              "      <td>40.728732</td>\n",
              "      <td>-74.032036</td>\n",
              "      <td>40.727224</td>\n",
              "      <td>-74.033759</td>\n",
              "      <td>member</td>\n",
              "      <td>1.80</td>\n",
              "      <td>2022-10-12</td>\n",
              "      <td>2022-10-12</td>\n",
              "    </tr>\n",
              "    <tr>\n",
              "      <th>19751</th>\n",
              "      <td>3D1BF39CA4D4D5AC</td>\n",
              "      <td>classic_bike</td>\n",
              "      <td>2022-09-24 14:11:59</td>\n",
              "      <td>2022-09-24 14:20:46</td>\n",
              "      <td>Madison St &amp; 1 St</td>\n",
              "      <td>HB402</td>\n",
              "      <td>South Waterfront Walkway - Sinatra Dr &amp; 1 St</td>\n",
              "      <td>HB103</td>\n",
              "      <td>40.738705</td>\n",
              "      <td>-74.039165</td>\n",
              "      <td>40.736982</td>\n",
              "      <td>-74.027781</td>\n",
              "      <td>member</td>\n",
              "      <td>8.78</td>\n",
              "      <td>2022-09-24</td>\n",
              "      <td>2022-09-24</td>\n",
              "    </tr>\n",
              "    <tr>\n",
              "      <th>11003</th>\n",
              "      <td>6099657CF5BB0F91</td>\n",
              "      <td>classic_bike</td>\n",
              "      <td>2022-09-29 07:56:04</td>\n",
              "      <td>2022-09-29 07:59:30</td>\n",
              "      <td>Jersey &amp; 6th St</td>\n",
              "      <td>JC027</td>\n",
              "      <td>Grove St PATH</td>\n",
              "      <td>JC005</td>\n",
              "      <td>40.725289</td>\n",
              "      <td>-74.045572</td>\n",
              "      <td>40.719586</td>\n",
              "      <td>-74.043117</td>\n",
              "      <td>member</td>\n",
              "      <td>3.43</td>\n",
              "      <td>2022-09-29</td>\n",
              "      <td>2022-09-29</td>\n",
              "    </tr>\n",
              "    <tr>\n",
              "      <th>89479</th>\n",
              "      <td>33FEEEEF31E28FA8</td>\n",
              "      <td>classic_bike</td>\n",
              "      <td>2022-10-12 09:13:49</td>\n",
              "      <td>2022-10-12 09:40:15</td>\n",
              "      <td>Bloomfield St &amp; 15 St</td>\n",
              "      <td>HB203</td>\n",
              "      <td>W 16 St &amp; The High Line</td>\n",
              "      <td>6233.05</td>\n",
              "      <td>40.754530</td>\n",
              "      <td>-74.026580</td>\n",
              "      <td>40.743349</td>\n",
              "      <td>-74.006818</td>\n",
              "      <td>member</td>\n",
              "      <td>26.43</td>\n",
              "      <td>2022-10-12</td>\n",
              "      <td>2022-10-12</td>\n",
              "    </tr>\n",
              "  </tbody>\n",
              "</table>\n",
              "</div>\n",
              "      <button class=\"colab-df-convert\" onclick=\"convertToInteractive('df-b80947d2-3a05-41d6-a893-676aace95819')\"\n",
              "              title=\"Convert this dataframe to an interactive table.\"\n",
              "              style=\"display:none;\">\n",
              "        \n",
              "  <svg xmlns=\"http://www.w3.org/2000/svg\" height=\"24px\"viewBox=\"0 0 24 24\"\n",
              "       width=\"24px\">\n",
              "    <path d=\"M0 0h24v24H0V0z\" fill=\"none\"/>\n",
              "    <path d=\"M18.56 5.44l.94 2.06.94-2.06 2.06-.94-2.06-.94-.94-2.06-.94 2.06-2.06.94zm-11 1L8.5 8.5l.94-2.06 2.06-.94-2.06-.94L8.5 2.5l-.94 2.06-2.06.94zm10 10l.94 2.06.94-2.06 2.06-.94-2.06-.94-.94-2.06-.94 2.06-2.06.94z\"/><path d=\"M17.41 7.96l-1.37-1.37c-.4-.4-.92-.59-1.43-.59-.52 0-1.04.2-1.43.59L10.3 9.45l-7.72 7.72c-.78.78-.78 2.05 0 2.83L4 21.41c.39.39.9.59 1.41.59.51 0 1.02-.2 1.41-.59l7.78-7.78 2.81-2.81c.8-.78.8-2.07 0-2.86zM5.41 20L4 18.59l7.72-7.72 1.47 1.35L5.41 20z\"/>\n",
              "  </svg>\n",
              "      </button>\n",
              "      \n",
              "  <style>\n",
              "    .colab-df-container {\n",
              "      display:flex;\n",
              "      flex-wrap:wrap;\n",
              "      gap: 12px;\n",
              "    }\n",
              "\n",
              "    .colab-df-convert {\n",
              "      background-color: #E8F0FE;\n",
              "      border: none;\n",
              "      border-radius: 50%;\n",
              "      cursor: pointer;\n",
              "      display: none;\n",
              "      fill: #1967D2;\n",
              "      height: 32px;\n",
              "      padding: 0 0 0 0;\n",
              "      width: 32px;\n",
              "    }\n",
              "\n",
              "    .colab-df-convert:hover {\n",
              "      background-color: #E2EBFA;\n",
              "      box-shadow: 0px 1px 2px rgba(60, 64, 67, 0.3), 0px 1px 3px 1px rgba(60, 64, 67, 0.15);\n",
              "      fill: #174EA6;\n",
              "    }\n",
              "\n",
              "    [theme=dark] .colab-df-convert {\n",
              "      background-color: #3B4455;\n",
              "      fill: #D2E3FC;\n",
              "    }\n",
              "\n",
              "    [theme=dark] .colab-df-convert:hover {\n",
              "      background-color: #434B5C;\n",
              "      box-shadow: 0px 1px 3px 1px rgba(0, 0, 0, 0.15);\n",
              "      filter: drop-shadow(0px 1px 2px rgba(0, 0, 0, 0.3));\n",
              "      fill: #FFFFFF;\n",
              "    }\n",
              "  </style>\n",
              "\n",
              "      <script>\n",
              "        const buttonEl =\n",
              "          document.querySelector('#df-b80947d2-3a05-41d6-a893-676aace95819 button.colab-df-convert');\n",
              "        buttonEl.style.display =\n",
              "          google.colab.kernel.accessAllowed ? 'block' : 'none';\n",
              "\n",
              "        async function convertToInteractive(key) {\n",
              "          const element = document.querySelector('#df-b80947d2-3a05-41d6-a893-676aace95819');\n",
              "          const dataTable =\n",
              "            await google.colab.kernel.invokeFunction('convertToInteractive',\n",
              "                                                     [key], {});\n",
              "          if (!dataTable) return;\n",
              "\n",
              "          const docLinkHtml = 'Like what you see? Visit the ' +\n",
              "            '<a target=\"_blank\" href=https://colab.research.google.com/notebooks/data_table.ipynb>data table notebook</a>'\n",
              "            + ' to learn more about interactive tables.';\n",
              "          element.innerHTML = '';\n",
              "          dataTable['output_type'] = 'display_data';\n",
              "          await google.colab.output.renderOutput(dataTable, element);\n",
              "          const docLink = document.createElement('div');\n",
              "          docLink.innerHTML = docLinkHtml;\n",
              "          element.appendChild(docLink);\n",
              "        }\n",
              "      </script>\n",
              "    </div>\n",
              "  </div>\n",
              "  "
            ]
          },
          "metadata": {},
          "execution_count": 17
        }
      ]
    },
    {
      "cell_type": "code",
      "source": [
        "# Проверим на количество дубликатов в данных\n",
        "print(\"Дубликатов в датасете:\", len(data[data.duplicated(keep=False)]))"
      ],
      "metadata": {
        "colab": {
          "base_uri": "https://localhost:8080/"
        },
        "id": "N9IxR6Yjcj__",
        "outputId": "2b6e22ea-6e85-4836-ae58-d5d3acb64740"
      },
      "execution_count": null,
      "outputs": [
        {
          "output_type": "stream",
          "name": "stdout",
          "text": [
            "Дубликатов в датасете: 0\n"
          ]
        }
      ]
    },
    {
      "cell_type": "code",
      "source": [
        "# Границы дат\n",
        "print(data['started_at'].min())\n",
        "print(data['started_at'].max())"
      ],
      "metadata": {
        "colab": {
          "base_uri": "https://localhost:8080/"
        },
        "id": "acJdf5kd8uuB",
        "outputId": "55ecf4fd-3b14-4194-b148-85faa32a73f0"
      },
      "execution_count": null,
      "outputs": [
        {
          "output_type": "stream",
          "name": "stdout",
          "text": [
            "2022-09-01 00:00:43\n",
            "2022-10-31 23:46:47\n"
          ]
        }
      ]
    },
    {
      "cell_type": "code",
      "source": [
        "data.describe()"
      ],
      "metadata": {
        "colab": {
          "base_uri": "https://localhost:8080/",
          "height": 300
        },
        "id": "KOZ1ImLp7lDS",
        "outputId": "ed0ed389-ce89-471a-e4db-657e8d702ad1"
      },
      "execution_count": null,
      "outputs": [
        {
          "output_type": "execute_result",
          "data": {
            "text/plain": [
              "           start_lat      start_lng        end_lat        end_lng  \\\n",
              "count  193805.000000  193805.000000  193481.000000  193481.000000   \n",
              "mean       40.732420     -74.040151      40.732397     -74.039944   \n",
              "std         0.012067       0.012084       0.012185       0.012120   \n",
              "min        40.706495     -74.088964      40.650000     -74.120000   \n",
              "25%        40.721492     -74.045953      40.721124     -74.045572   \n",
              "50%        40.735208     -74.037683      40.735208     -74.037683   \n",
              "75%        40.742258     -74.030970      40.742258     -74.030970   \n",
              "max        40.754992     -74.023726      40.849972     -73.931594   \n",
              "\n",
              "            duration  \n",
              "count  193805.000000  \n",
              "mean       15.902311  \n",
              "std       129.048480  \n",
              "min        -0.150000  \n",
              "25%         4.430000  \n",
              "50%         6.980000  \n",
              "75%        11.500000  \n",
              "max     27607.070000  "
            ],
            "text/html": [
              "\n",
              "  <div id=\"df-7ec26348-0df1-4b99-bd3f-7423d511be4a\">\n",
              "    <div class=\"colab-df-container\">\n",
              "      <div>\n",
              "<style scoped>\n",
              "    .dataframe tbody tr th:only-of-type {\n",
              "        vertical-align: middle;\n",
              "    }\n",
              "\n",
              "    .dataframe tbody tr th {\n",
              "        vertical-align: top;\n",
              "    }\n",
              "\n",
              "    .dataframe thead th {\n",
              "        text-align: right;\n",
              "    }\n",
              "</style>\n",
              "<table border=\"1\" class=\"dataframe\">\n",
              "  <thead>\n",
              "    <tr style=\"text-align: right;\">\n",
              "      <th></th>\n",
              "      <th>start_lat</th>\n",
              "      <th>start_lng</th>\n",
              "      <th>end_lat</th>\n",
              "      <th>end_lng</th>\n",
              "      <th>duration</th>\n",
              "    </tr>\n",
              "  </thead>\n",
              "  <tbody>\n",
              "    <tr>\n",
              "      <th>count</th>\n",
              "      <td>193805.000000</td>\n",
              "      <td>193805.000000</td>\n",
              "      <td>193481.000000</td>\n",
              "      <td>193481.000000</td>\n",
              "      <td>193805.000000</td>\n",
              "    </tr>\n",
              "    <tr>\n",
              "      <th>mean</th>\n",
              "      <td>40.732420</td>\n",
              "      <td>-74.040151</td>\n",
              "      <td>40.732397</td>\n",
              "      <td>-74.039944</td>\n",
              "      <td>15.902311</td>\n",
              "    </tr>\n",
              "    <tr>\n",
              "      <th>std</th>\n",
              "      <td>0.012067</td>\n",
              "      <td>0.012084</td>\n",
              "      <td>0.012185</td>\n",
              "      <td>0.012120</td>\n",
              "      <td>129.048480</td>\n",
              "    </tr>\n",
              "    <tr>\n",
              "      <th>min</th>\n",
              "      <td>40.706495</td>\n",
              "      <td>-74.088964</td>\n",
              "      <td>40.650000</td>\n",
              "      <td>-74.120000</td>\n",
              "      <td>-0.150000</td>\n",
              "    </tr>\n",
              "    <tr>\n",
              "      <th>25%</th>\n",
              "      <td>40.721492</td>\n",
              "      <td>-74.045953</td>\n",
              "      <td>40.721124</td>\n",
              "      <td>-74.045572</td>\n",
              "      <td>4.430000</td>\n",
              "    </tr>\n",
              "    <tr>\n",
              "      <th>50%</th>\n",
              "      <td>40.735208</td>\n",
              "      <td>-74.037683</td>\n",
              "      <td>40.735208</td>\n",
              "      <td>-74.037683</td>\n",
              "      <td>6.980000</td>\n",
              "    </tr>\n",
              "    <tr>\n",
              "      <th>75%</th>\n",
              "      <td>40.742258</td>\n",
              "      <td>-74.030970</td>\n",
              "      <td>40.742258</td>\n",
              "      <td>-74.030970</td>\n",
              "      <td>11.500000</td>\n",
              "    </tr>\n",
              "    <tr>\n",
              "      <th>max</th>\n",
              "      <td>40.754992</td>\n",
              "      <td>-74.023726</td>\n",
              "      <td>40.849972</td>\n",
              "      <td>-73.931594</td>\n",
              "      <td>27607.070000</td>\n",
              "    </tr>\n",
              "  </tbody>\n",
              "</table>\n",
              "</div>\n",
              "      <button class=\"colab-df-convert\" onclick=\"convertToInteractive('df-7ec26348-0df1-4b99-bd3f-7423d511be4a')\"\n",
              "              title=\"Convert this dataframe to an interactive table.\"\n",
              "              style=\"display:none;\">\n",
              "        \n",
              "  <svg xmlns=\"http://www.w3.org/2000/svg\" height=\"24px\"viewBox=\"0 0 24 24\"\n",
              "       width=\"24px\">\n",
              "    <path d=\"M0 0h24v24H0V0z\" fill=\"none\"/>\n",
              "    <path d=\"M18.56 5.44l.94 2.06.94-2.06 2.06-.94-2.06-.94-.94-2.06-.94 2.06-2.06.94zm-11 1L8.5 8.5l.94-2.06 2.06-.94-2.06-.94L8.5 2.5l-.94 2.06-2.06.94zm10 10l.94 2.06.94-2.06 2.06-.94-2.06-.94-.94-2.06-.94 2.06-2.06.94z\"/><path d=\"M17.41 7.96l-1.37-1.37c-.4-.4-.92-.59-1.43-.59-.52 0-1.04.2-1.43.59L10.3 9.45l-7.72 7.72c-.78.78-.78 2.05 0 2.83L4 21.41c.39.39.9.59 1.41.59.51 0 1.02-.2 1.41-.59l7.78-7.78 2.81-2.81c.8-.78.8-2.07 0-2.86zM5.41 20L4 18.59l7.72-7.72 1.47 1.35L5.41 20z\"/>\n",
              "  </svg>\n",
              "      </button>\n",
              "      \n",
              "  <style>\n",
              "    .colab-df-container {\n",
              "      display:flex;\n",
              "      flex-wrap:wrap;\n",
              "      gap: 12px;\n",
              "    }\n",
              "\n",
              "    .colab-df-convert {\n",
              "      background-color: #E8F0FE;\n",
              "      border: none;\n",
              "      border-radius: 50%;\n",
              "      cursor: pointer;\n",
              "      display: none;\n",
              "      fill: #1967D2;\n",
              "      height: 32px;\n",
              "      padding: 0 0 0 0;\n",
              "      width: 32px;\n",
              "    }\n",
              "\n",
              "    .colab-df-convert:hover {\n",
              "      background-color: #E2EBFA;\n",
              "      box-shadow: 0px 1px 2px rgba(60, 64, 67, 0.3), 0px 1px 3px 1px rgba(60, 64, 67, 0.15);\n",
              "      fill: #174EA6;\n",
              "    }\n",
              "\n",
              "    [theme=dark] .colab-df-convert {\n",
              "      background-color: #3B4455;\n",
              "      fill: #D2E3FC;\n",
              "    }\n",
              "\n",
              "    [theme=dark] .colab-df-convert:hover {\n",
              "      background-color: #434B5C;\n",
              "      box-shadow: 0px 1px 3px 1px rgba(0, 0, 0, 0.15);\n",
              "      filter: drop-shadow(0px 1px 2px rgba(0, 0, 0, 0.3));\n",
              "      fill: #FFFFFF;\n",
              "    }\n",
              "  </style>\n",
              "\n",
              "      <script>\n",
              "        const buttonEl =\n",
              "          document.querySelector('#df-7ec26348-0df1-4b99-bd3f-7423d511be4a button.colab-df-convert');\n",
              "        buttonEl.style.display =\n",
              "          google.colab.kernel.accessAllowed ? 'block' : 'none';\n",
              "\n",
              "        async function convertToInteractive(key) {\n",
              "          const element = document.querySelector('#df-7ec26348-0df1-4b99-bd3f-7423d511be4a');\n",
              "          const dataTable =\n",
              "            await google.colab.kernel.invokeFunction('convertToInteractive',\n",
              "                                                     [key], {});\n",
              "          if (!dataTable) return;\n",
              "\n",
              "          const docLinkHtml = 'Like what you see? Visit the ' +\n",
              "            '<a target=\"_blank\" href=https://colab.research.google.com/notebooks/data_table.ipynb>data table notebook</a>'\n",
              "            + ' to learn more about interactive tables.';\n",
              "          element.innerHTML = '';\n",
              "          dataTable['output_type'] = 'display_data';\n",
              "          await google.colab.output.renderOutput(dataTable, element);\n",
              "          const docLink = document.createElement('div');\n",
              "          docLink.innerHTML = docLinkHtml;\n",
              "          element.appendChild(docLink);\n",
              "        }\n",
              "      </script>\n",
              "    </div>\n",
              "  </div>\n",
              "  "
            ]
          },
          "metadata": {},
          "execution_count": 20
        }
      ]
    },
    {
      "cell_type": "markdown",
      "source": [
        "В длительности есть выбросы в виде отрицательных и очень больших значений."
      ],
      "metadata": {
        "id": "SAuU9OT0Hqbk"
      }
    },
    {
      "cell_type": "code",
      "source": [
        "# Смотрим количество отрицательных и на нуле\n",
        "len(data.query('duration <= 0'))"
      ],
      "metadata": {
        "colab": {
          "base_uri": "https://localhost:8080/"
        },
        "id": "dsO1ae0W8Uak",
        "outputId": "bb03e044-b37b-497d-d3a8-cbc38a0967d3"
      },
      "execution_count": null,
      "outputs": [
        {
          "output_type": "execute_result",
          "data": {
            "text/plain": [
              "10"
            ]
          },
          "metadata": {},
          "execution_count": 21
        }
      ]
    },
    {
      "cell_type": "code",
      "source": [
        "# Диапазон по перцентилям\n",
        "np.percentile(data['duration'], [80, 85, 90, 95, 99, 99.9])"
      ],
      "metadata": {
        "colab": {
          "base_uri": "https://localhost:8080/"
        },
        "id": "n__KaoGkUsDM",
        "outputId": "eed08be0-aa2b-491a-a1cd-b63a646b7b5f"
      },
      "execution_count": null,
      "outputs": [
        {
          "output_type": "execute_result",
          "data": {
            "text/plain": [
              "array([  13.37,   16.15,   21.25,   34.22,   96.07, 1499.9 ])"
            ]
          },
          "metadata": {},
          "execution_count": 22
        }
      ]
    },
    {
      "cell_type": "markdown",
      "source": [
        "99% поездок с длительностью до 96 минут.\n",
        "\n",
        "90% поездок входят в стандартный пакет до 30 минут, который включен в стоимость."
      ],
      "metadata": {
        "id": "hznnrJSbH9Ey"
      }
    },
    {
      "cell_type": "code",
      "source": [
        "sns.boxplot(x=data['duration']);"
      ],
      "metadata": {
        "colab": {
          "base_uri": "https://localhost:8080/",
          "height": 279
        },
        "id": "TnWRNmesVM8h",
        "outputId": "233799e6-068d-4a93-cd38-10556a032279"
      },
      "execution_count": null,
      "outputs": [
        {
          "output_type": "display_data",
          "data": {
            "text/plain": [
              "<Figure size 432x288 with 1 Axes>"
            ],
            "image/png": "[encoded data removed]"
          },
          "metadata": {
            "needs_background": "light"
          }
        }
      ]
    },
    {
      "cell_type": "code",
      "source": [
        "# Убираем данные с аномально длинными и отрицательными поездками\n",
        "per1 = np.percentile(data['duration'], [99])\n",
        "data = data.query('duration > 0 and duration <= @per1')\n",
        "data.shape"
      ],
      "metadata": {
        "colab": {
          "base_uri": "https://localhost:8080/"
        },
        "id": "98UkBw0Y8kho",
        "outputId": "c72ea3b9-6acf-4105-b68f-a4bb348ab362"
      },
      "execution_count": null,
      "outputs": [
        {
          "output_type": "execute_result",
          "data": {
            "text/plain": [
              "(191858, 16)"
            ]
          },
          "metadata": {},
          "execution_count": 26
        }
      ]
    },
    {
      "cell_type": "markdown",
      "source": [
        "Потеряли всего около 2000 записей."
      ],
      "metadata": {
        "id": "SUpQm-SyIWNS"
      }
    },
    {
      "cell_type": "code",
      "source": [
        "plt.figure(figsize=(15, 4));\n",
        "sns.boxplot(x=data['duration']);"
      ],
      "metadata": {
        "colab": {
          "base_uri": "https://localhost:8080/",
          "height": 279
        },
        "id": "RRSZ5tlFhI6B",
        "outputId": "07b8892d-f293-411c-871b-293dd7c29f0d"
      },
      "execution_count": 219,
      "outputs": [
        {
          "output_type": "display_data",
          "data": {
            "text/plain": [
              "<Figure size 1080x288 with 1 Axes>"
            ],
            "image/png": "[encoded data removed]"
          },
          "metadata": {
            "needs_background": "light"
          }
        }
      ]
    },
    {
      "cell_type": "markdown",
      "source": [
        "Общая медиана длительности поездки - меньше 10 минут. "
      ],
      "metadata": {
        "id": "vqQTAVjjhUdc"
      }
    },
    {
      "cell_type": "markdown",
      "source": [
        "# Запись в БД"
      ],
      "metadata": {
        "id": "9-RHtSWdvl5a"
      }
    },
    {
      "cell_type": "code",
      "source": [
        "# Если ещё не подключались - подключаемся к базе\n",
        "if 'mydb' not in globals():\n",
        "  mydb = db_connect()"
      ],
      "metadata": {
        "id": "Ry3xZcMZfWV1"
      },
      "execution_count": null,
      "outputs": []
    },
    {
      "cell_type": "code",
      "source": [
        "# Добавление строк в таблицу\n",
        "if mydb:\n",
        "  data.to_sql(con=mydb, name='ride', if_exists='replace')"
      ],
      "metadata": {
        "id": "1DG4eRvif4kl"
      },
      "execution_count": null,
      "outputs": []
    },
    {
      "cell_type": "code",
      "source": [
        "# Формируем отдельные таблицы (старта и окончания) через sql-запросы\n",
        "start_station = pd.read_sql('''SELECT start_station_id,\n",
        "                                      start_station_name,\n",
        "                                      start_lat,\n",
        "                                      start_lng,\n",
        "                                      COUNT(*) AS count_ride\n",
        "                              FROM ride \n",
        "                              GROUP BY start_station_id\n",
        "                              ORDER BY count_ride DESC''', mydb)\n",
        "\n",
        "\n",
        "end_station = pd.read_sql('''SELECT end_station_id,\n",
        "                                      end_station_name,\n",
        "                                      end_lat,\n",
        "                                      end_lng,\n",
        "                                      COUNT(*) AS count_ride\n",
        "                              FROM ride \n",
        "                              GROUP BY end_station_id\n",
        "                              ORDER BY count_ride DESC''', mydb)"
      ],
      "metadata": {
        "id": "ntkwFAL5YWm-"
      },
      "execution_count": null,
      "outputs": []
    },
    {
      "cell_type": "code",
      "source": [
        "# Формируем таблицу с популярными маршрутами\n",
        "path = pd.read_sql('''SELECT CONCAT(start_station_id, ' - ', end_station_id) AS path,\n",
        "                             start_station_name,\n",
        "                             end_station_name,\n",
        "                             start_lat,\n",
        "                             start_lng,\n",
        "                             end_lat,\n",
        "                             end_lng,\n",
        "                             COUNT(*) AS count_path\n",
        "                      FROM ride\n",
        "                      GROUP BY path\n",
        "                      ORDER BY count_path DESC\n",
        "               ''', mydb)\n",
        "\n",
        "# Считаем дистанцию от начальной и конченой точки по координатам (в км)\n",
        "for i in range(len(path)):\n",
        "  coords_1 = (path['start_lat'][i], path['start_lng'][i])\n",
        "  coords_2 = (path['end_lat'][i], path['end_lng'][i])\n",
        "  path.loc[i, 'distance'] = geopy.distance.geodesic(coords_1, coords_2).km\n",
        "\n",
        "path.head()"
      ],
      "metadata": {
        "colab": {
          "base_uri": "https://localhost:8080/",
          "height": 285
        },
        "id": "mN9fMJB4xE9x",
        "outputId": "348a73c2-45cf-479b-93bf-61ad73e9716f"
      },
      "execution_count": null,
      "outputs": [
        {
          "output_type": "execute_result",
          "data": {
            "text/plain": [
              "            path                        start_station_name  \\\n",
              "0  HB101 - JC105  Hoboken Terminal - Hudson St & Hudson Pl   \n",
              "1  JC005 - JC013                             Grove St PATH   \n",
              "2  JC013 - JC005                          Marin Light Rail   \n",
              "3  JC105 - HB101                Hoboken Ave at Monmouth St   \n",
              "4  HB201 - HB103                      12 St & Sinatra Dr N   \n",
              "\n",
              "                               end_station_name  start_lat  start_lng  \\\n",
              "0                    Hoboken Ave at Monmouth St  40.735938 -74.030305   \n",
              "1                              Marin Light Rail  40.719586 -74.043117   \n",
              "2                                 Grove St PATH  40.714584 -74.042817   \n",
              "3      Hoboken Terminal - Hudson St & Hudson Pl  40.735225 -74.046938   \n",
              "4  South Waterfront Walkway - Sinatra Dr & 1 St  40.750604 -74.024020   \n",
              "\n",
              "     end_lat    end_lng  count_path  distance  \n",
              "0  40.735208 -74.046964        1221  1.409539  \n",
              "1  40.714584 -74.042817         924  0.556053  \n",
              "2  40.719586 -74.043117         907  0.556053  \n",
              "3  40.735938 -74.030305         906  1.407235  \n",
              "4  40.736982 -74.027781         811  1.545684  "
            ],
            "text/html": [
              "\n",
              "  <div id=\"df-a13f7d8b-0de8-4de6-8f07-770084233a95\">\n",
              "    <div class=\"colab-df-container\">\n",
              "      <div>\n",
              "<style scoped>\n",
              "    .dataframe tbody tr th:only-of-type {\n",
              "        vertical-align: middle;\n",
              "    }\n",
              "\n",
              "    .dataframe tbody tr th {\n",
              "        vertical-align: top;\n",
              "    }\n",
              "\n",
              "    .dataframe thead th {\n",
              "        text-align: right;\n",
              "    }\n",
              "</style>\n",
              "<table border=\"1\" class=\"dataframe\">\n",
              "  <thead>\n",
              "    <tr style=\"text-align: right;\">\n",
              "      <th></th>\n",
              "      <th>path</th>\n",
              "      <th>start_station_name</th>\n",
              "      <th>end_station_name</th>\n",
              "      <th>start_lat</th>\n",
              "      <th>start_lng</th>\n",
              "      <th>end_lat</th>\n",
              "      <th>end_lng</th>\n",
              "      <th>count_path</th>\n",
              "      <th>distance</th>\n",
              "    </tr>\n",
              "  </thead>\n",
              "  <tbody>\n",
              "    <tr>\n",
              "      <th>0</th>\n",
              "      <td>HB101 - JC105</td>\n",
              "      <td>Hoboken Terminal - Hudson St &amp; Hudson Pl</td>\n",
              "      <td>Hoboken Ave at Monmouth St</td>\n",
              "      <td>40.735938</td>\n",
              "      <td>-74.030305</td>\n",
              "      <td>40.735208</td>\n",
              "      <td>-74.046964</td>\n",
              "      <td>1221</td>\n",
              "      <td>1.409539</td>\n",
              "    </tr>\n",
              "    <tr>\n",
              "      <th>1</th>\n",
              "      <td>JC005 - JC013</td>\n",
              "      <td>Grove St PATH</td>\n",
              "      <td>Marin Light Rail</td>\n",
              "      <td>40.719586</td>\n",
              "      <td>-74.043117</td>\n",
              "      <td>40.714584</td>\n",
              "      <td>-74.042817</td>\n",
              "      <td>924</td>\n",
              "      <td>0.556053</td>\n",
              "    </tr>\n",
              "    <tr>\n",
              "      <th>2</th>\n",
              "      <td>JC013 - JC005</td>\n",
              "      <td>Marin Light Rail</td>\n",
              "      <td>Grove St PATH</td>\n",
              "      <td>40.714584</td>\n",
              "      <td>-74.042817</td>\n",
              "      <td>40.719586</td>\n",
              "      <td>-74.043117</td>\n",
              "      <td>907</td>\n",
              "      <td>0.556053</td>\n",
              "    </tr>\n",
              "    <tr>\n",
              "      <th>3</th>\n",
              "      <td>JC105 - HB101</td>\n",
              "      <td>Hoboken Ave at Monmouth St</td>\n",
              "      <td>Hoboken Terminal - Hudson St &amp; Hudson Pl</td>\n",
              "      <td>40.735225</td>\n",
              "      <td>-74.046938</td>\n",
              "      <td>40.735938</td>\n",
              "      <td>-74.030305</td>\n",
              "      <td>906</td>\n",
              "      <td>1.407235</td>\n",
              "    </tr>\n",
              "    <tr>\n",
              "      <th>4</th>\n",
              "      <td>HB201 - HB103</td>\n",
              "      <td>12 St &amp; Sinatra Dr N</td>\n",
              "      <td>South Waterfront Walkway - Sinatra Dr &amp; 1 St</td>\n",
              "      <td>40.750604</td>\n",
              "      <td>-74.024020</td>\n",
              "      <td>40.736982</td>\n",
              "      <td>-74.027781</td>\n",
              "      <td>811</td>\n",
              "      <td>1.545684</td>\n",
              "    </tr>\n",
              "  </tbody>\n",
              "</table>\n",
              "</div>\n",
              "      <button class=\"colab-df-convert\" onclick=\"convertToInteractive('df-a13f7d8b-0de8-4de6-8f07-770084233a95')\"\n",
              "              title=\"Convert this dataframe to an interactive table.\"\n",
              "              style=\"display:none;\">\n",
              "        \n",
              "  <svg xmlns=\"http://www.w3.org/2000/svg\" height=\"24px\"viewBox=\"0 0 24 24\"\n",
              "       width=\"24px\">\n",
              "    <path d=\"M0 0h24v24H0V0z\" fill=\"none\"/>\n",
              "    <path d=\"M18.56 5.44l.94 2.06.94-2.06 2.06-.94-2.06-.94-.94-2.06-.94 2.06-2.06.94zm-11 1L8.5 8.5l.94-2.06 2.06-.94-2.06-.94L8.5 2.5l-.94 2.06-2.06.94zm10 10l.94 2.06.94-2.06 2.06-.94-2.06-.94-.94-2.06-.94 2.06-2.06.94z\"/><path d=\"M17.41 7.96l-1.37-1.37c-.4-.4-.92-.59-1.43-.59-.52 0-1.04.2-1.43.59L10.3 9.45l-7.72 7.72c-.78.78-.78 2.05 0 2.83L4 21.41c.39.39.9.59 1.41.59.51 0 1.02-.2 1.41-.59l7.78-7.78 2.81-2.81c.8-.78.8-2.07 0-2.86zM5.41 20L4 18.59l7.72-7.72 1.47 1.35L5.41 20z\"/>\n",
              "  </svg>\n",
              "      </button>\n",
              "      \n",
              "  <style>\n",
              "    .colab-df-container {\n",
              "      display:flex;\n",
              "      flex-wrap:wrap;\n",
              "      gap: 12px;\n",
              "    }\n",
              "\n",
              "    .colab-df-convert {\n",
              "      background-color: #E8F0FE;\n",
              "      border: none;\n",
              "      border-radius: 50%;\n",
              "      cursor: pointer;\n",
              "      display: none;\n",
              "      fill: #1967D2;\n",
              "      height: 32px;\n",
              "      padding: 0 0 0 0;\n",
              "      width: 32px;\n",
              "    }\n",
              "\n",
              "    .colab-df-convert:hover {\n",
              "      background-color: #E2EBFA;\n",
              "      box-shadow: 0px 1px 2px rgba(60, 64, 67, 0.3), 0px 1px 3px 1px rgba(60, 64, 67, 0.15);\n",
              "      fill: #174EA6;\n",
              "    }\n",
              "\n",
              "    [theme=dark] .colab-df-convert {\n",
              "      background-color: #3B4455;\n",
              "      fill: #D2E3FC;\n",
              "    }\n",
              "\n",
              "    [theme=dark] .colab-df-convert:hover {\n",
              "      background-color: #434B5C;\n",
              "      box-shadow: 0px 1px 3px 1px rgba(0, 0, 0, 0.15);\n",
              "      filter: drop-shadow(0px 1px 2px rgba(0, 0, 0, 0.3));\n",
              "      fill: #FFFFFF;\n",
              "    }\n",
              "  </style>\n",
              "\n",
              "      <script>\n",
              "        const buttonEl =\n",
              "          document.querySelector('#df-a13f7d8b-0de8-4de6-8f07-770084233a95 button.colab-df-convert');\n",
              "        buttonEl.style.display =\n",
              "          google.colab.kernel.accessAllowed ? 'block' : 'none';\n",
              "\n",
              "        async function convertToInteractive(key) {\n",
              "          const element = document.querySelector('#df-a13f7d8b-0de8-4de6-8f07-770084233a95');\n",
              "          const dataTable =\n",
              "            await google.colab.kernel.invokeFunction('convertToInteractive',\n",
              "                                                     [key], {});\n",
              "          if (!dataTable) return;\n",
              "\n",
              "          const docLinkHtml = 'Like what you see? Visit the ' +\n",
              "            '<a target=\"_blank\" href=https://colab.research.google.com/notebooks/data_table.ipynb>data table notebook</a>'\n",
              "            + ' to learn more about interactive tables.';\n",
              "          element.innerHTML = '';\n",
              "          dataTable['output_type'] = 'display_data';\n",
              "          await google.colab.output.renderOutput(dataTable, element);\n",
              "          const docLink = document.createElement('div');\n",
              "          docLink.innerHTML = docLinkHtml;\n",
              "          element.appendChild(docLink);\n",
              "        }\n",
              "      </script>\n",
              "    </div>\n",
              "  </div>\n",
              "  "
            ]
          },
          "metadata": {},
          "execution_count": 32
        }
      ]
    },
    {
      "cell_type": "code",
      "source": [
        "# Записываем в базу данных\n",
        "if mydb:\n",
        "  start_station.to_sql(con=mydb, name='start_station', if_exists='replace')\n",
        "  end_station.to_sql(con=mydb, name='end_station', if_exists='replace')\n",
        "  path.to_sql(con=mydb, name='path', if_exists='replace')"
      ],
      "metadata": {
        "id": "nlmCJVk4aslt"
      },
      "execution_count": null,
      "outputs": []
    },
    {
      "cell_type": "markdown",
      "source": [
        "# Погода"
      ],
      "metadata": {
        "id": "_YJeVFpdvjcF"
      }
    },
    {
      "cell_type": "markdown",
      "source": [
        "Обогатим данные погодой, чтобы поискать корреляции. Закажем архив в официальной службе погоды NY."
      ],
      "metadata": {
        "id": "0k0d_FZ4M5Gg"
      }
    },
    {
      "cell_type": "code",
      "source": [
        "# Скачиваем датасет с официальных источников\n",
        "weather = pd.read_csv('/content/drive/MyDrive/Data analyst/ride/weatherny.csv')\n",
        "weather.info()"
      ],
      "metadata": {
        "colab": {
          "base_uri": "https://localhost:8080/"
        },
        "id": "DUPI_rrlgU06",
        "outputId": "7fdec6e3-d5a3-4066-f83e-8d1dae1943fb"
      },
      "execution_count": null,
      "outputs": [
        {
          "output_type": "stream",
          "name": "stdout",
          "text": [
            "<class 'pandas.core.frame.DataFrame'>\n",
            "RangeIndex: 669 entries, 0 to 668\n",
            "Data columns (total 19 columns):\n",
            " #   Column     Non-Null Count  Dtype  \n",
            "---  ------     --------------  -----  \n",
            " 0   STATION    669 non-null    object \n",
            " 1   NAME       669 non-null    object \n",
            " 2   LATITUDE   669 non-null    float64\n",
            " 3   LONGITUDE  669 non-null    float64\n",
            " 4   ELEVATION  669 non-null    float64\n",
            " 5   DATE       669 non-null    object \n",
            " 6   AWND       652 non-null    float64\n",
            " 7   PGTM       0 non-null      float64\n",
            " 8   PRCP       669 non-null    float64\n",
            " 9   SNOW       669 non-null    float64\n",
            " 10  SNWD       669 non-null    float64\n",
            " 11  TAVG       0 non-null      float64\n",
            " 12  TMAX       669 non-null    float64\n",
            " 13  TMIN       669 non-null    float64\n",
            " 14  TSUN       2 non-null      float64\n",
            " 15  WDF2       653 non-null    float64\n",
            " 16  WDF5       647 non-null    float64\n",
            " 17  WSF2       653 non-null    float64\n",
            " 18  WSF5       647 non-null    float64\n",
            "dtypes: float64(16), object(3)\n",
            "memory usage: 99.4+ KB\n"
          ]
        }
      ]
    },
    {
      "cell_type": "markdown",
      "source": [
        "**Описание колонок:**\n",
        "\n",
        "* Precipitation (PRCP), tenths of mm\n",
        "* Snow depth (SNWD)\n",
        "* Snowfall (SNOW), (mm)\n",
        "* Total sunshine for the period (TSUN)\n",
        "* Average Temperature, C (TAVG)\n",
        "* Maximum temperature, C (TMAX)\n",
        "* Minimum temperature, C (TMIN)\n",
        "* Average wind speed, tenths of meters per second (AWND)\n",
        "* Direction of fastest 2-minute wind, degrees (WDF2)\n",
        "* Direction of fastest 5-second wind, degrees (WDF5)\n",
        "* Fastest 2-minute wind speed, tenths of meters per second (WSF2)\n",
        "* Fastest 5-second wind speed, tenths of meters per second (WSF5)\n",
        "* Peak gust time (PGTM)"
      ],
      "metadata": {
        "id": "K_nN_VW_tz85"
      }
    },
    {
      "cell_type": "code",
      "source": [
        "# Для удобства переводим названия колонок в нижний регистр\n",
        "weather.columns = map(str.lower, weather.columns)\n",
        "weather.sample(5)"
      ],
      "metadata": {
        "colab": {
          "base_uri": "https://localhost:8080/",
          "height": 206
        },
        "id": "Y6Sx8d4JszRN",
        "outputId": "e8870c1e-0c68-4e16-b138-a8ce376d5997"
      },
      "execution_count": null,
      "outputs": [
        {
          "output_type": "execute_result",
          "data": {
            "text/plain": [
              "                            name  latitude  longitude        date  awnd  prcp  \\\n",
              "494  NY CITY CENTRAL PARK, NY US  40.77898  -73.96925  2022-05-10   4.5   0.0   \n",
              "3    NY CITY CENTRAL PARK, NY US  40.77898  -73.96925  2021-01-04   2.0   0.5   \n",
              "192  NY CITY CENTRAL PARK, NY US  40.77898  -73.96925  2021-07-12   2.2  36.1   \n",
              "253  NY CITY CENTRAL PARK, NY US  40.77898  -73.96925  2021-09-11   0.9   0.0   \n",
              "664  NY CITY CENTRAL PARK, NY US  40.77898  -73.96925  2022-10-27   3.0   0.0   \n",
              "\n",
              "     snow  snwd  tmax  tmin   wdf2   wdf5  wsf2  wsf5  tavg  \n",
              "494   0.0   0.0  22.8  10.6   50.0   50.0  10.3  13.4  16.7  \n",
              "3     0.0   0.0   6.1   1.7   30.0   40.0   5.4   8.1   3.9  \n",
              "192   0.0   0.0  30.0  22.2   60.0   50.0   6.3   8.9  26.1  \n",
              "253   0.0   0.0  24.4  15.6  250.0  260.0   4.5  10.7  20.0  \n",
              "664   0.0   0.0  18.3  11.1   20.0  360.0   6.3  10.3  14.7  "
            ],
            "text/html": [
              "\n",
              "  <div id=\"df-457bed2c-a46b-4fc6-90bb-450711ba07db\">\n",
              "    <div class=\"colab-df-container\">\n",
              "      <div>\n",
              "<style scoped>\n",
              "    .dataframe tbody tr th:only-of-type {\n",
              "        vertical-align: middle;\n",
              "    }\n",
              "\n",
              "    .dataframe tbody tr th {\n",
              "        vertical-align: top;\n",
              "    }\n",
              "\n",
              "    .dataframe thead th {\n",
              "        text-align: right;\n",
              "    }\n",
              "</style>\n",
              "<table border=\"1\" class=\"dataframe\">\n",
              "  <thead>\n",
              "    <tr style=\"text-align: right;\">\n",
              "      <th></th>\n",
              "      <th>name</th>\n",
              "      <th>latitude</th>\n",
              "      <th>longitude</th>\n",
              "      <th>date</th>\n",
              "      <th>awnd</th>\n",
              "      <th>prcp</th>\n",
              "      <th>snow</th>\n",
              "      <th>snwd</th>\n",
              "      <th>tmax</th>\n",
              "      <th>tmin</th>\n",
              "      <th>wdf2</th>\n",
              "      <th>wdf5</th>\n",
              "      <th>wsf2</th>\n",
              "      <th>wsf5</th>\n",
              "      <th>tavg</th>\n",
              "    </tr>\n",
              "  </thead>\n",
              "  <tbody>\n",
              "    <tr>\n",
              "      <th>494</th>\n",
              "      <td>NY CITY CENTRAL PARK, NY US</td>\n",
              "      <td>40.77898</td>\n",
              "      <td>-73.96925</td>\n",
              "      <td>2022-05-10</td>\n",
              "      <td>4.5</td>\n",
              "      <td>0.0</td>\n",
              "      <td>0.0</td>\n",
              "      <td>0.0</td>\n",
              "      <td>22.8</td>\n",
              "      <td>10.6</td>\n",
              "      <td>50.0</td>\n",
              "      <td>50.0</td>\n",
              "      <td>10.3</td>\n",
              "      <td>13.4</td>\n",
              "      <td>16.7</td>\n",
              "    </tr>\n",
              "    <tr>\n",
              "      <th>3</th>\n",
              "      <td>NY CITY CENTRAL PARK, NY US</td>\n",
              "      <td>40.77898</td>\n",
              "      <td>-73.96925</td>\n",
              "      <td>2021-01-04</td>\n",
              "      <td>2.0</td>\n",
              "      <td>0.5</td>\n",
              "      <td>0.0</td>\n",
              "      <td>0.0</td>\n",
              "      <td>6.1</td>\n",
              "      <td>1.7</td>\n",
              "      <td>30.0</td>\n",
              "      <td>40.0</td>\n",
              "      <td>5.4</td>\n",
              "      <td>8.1</td>\n",
              "      <td>3.9</td>\n",
              "    </tr>\n",
              "    <tr>\n",
              "      <th>192</th>\n",
              "      <td>NY CITY CENTRAL PARK, NY US</td>\n",
              "      <td>40.77898</td>\n",
              "      <td>-73.96925</td>\n",
              "      <td>2021-07-12</td>\n",
              "      <td>2.2</td>\n",
              "      <td>36.1</td>\n",
              "      <td>0.0</td>\n",
              "      <td>0.0</td>\n",
              "      <td>30.0</td>\n",
              "      <td>22.2</td>\n",
              "      <td>60.0</td>\n",
              "      <td>50.0</td>\n",
              "      <td>6.3</td>\n",
              "      <td>8.9</td>\n",
              "      <td>26.1</td>\n",
              "    </tr>\n",
              "    <tr>\n",
              "      <th>253</th>\n",
              "      <td>NY CITY CENTRAL PARK, NY US</td>\n",
              "      <td>40.77898</td>\n",
              "      <td>-73.96925</td>\n",
              "      <td>2021-09-11</td>\n",
              "      <td>0.9</td>\n",
              "      <td>0.0</td>\n",
              "      <td>0.0</td>\n",
              "      <td>0.0</td>\n",
              "      <td>24.4</td>\n",
              "      <td>15.6</td>\n",
              "      <td>250.0</td>\n",
              "      <td>260.0</td>\n",
              "      <td>4.5</td>\n",
              "      <td>10.7</td>\n",
              "      <td>20.0</td>\n",
              "    </tr>\n",
              "    <tr>\n",
              "      <th>664</th>\n",
              "      <td>NY CITY CENTRAL PARK, NY US</td>\n",
              "      <td>40.77898</td>\n",
              "      <td>-73.96925</td>\n",
              "      <td>2022-10-27</td>\n",
              "      <td>3.0</td>\n",
              "      <td>0.0</td>\n",
              "      <td>0.0</td>\n",
              "      <td>0.0</td>\n",
              "      <td>18.3</td>\n",
              "      <td>11.1</td>\n",
              "      <td>20.0</td>\n",
              "      <td>360.0</td>\n",
              "      <td>6.3</td>\n",
              "      <td>10.3</td>\n",
              "      <td>14.7</td>\n",
              "    </tr>\n",
              "  </tbody>\n",
              "</table>\n",
              "</div>\n",
              "      <button class=\"colab-df-convert\" onclick=\"convertToInteractive('df-457bed2c-a46b-4fc6-90bb-450711ba07db')\"\n",
              "              title=\"Convert this dataframe to an interactive table.\"\n",
              "              style=\"display:none;\">\n",
              "        \n",
              "  <svg xmlns=\"http://www.w3.org/2000/svg\" height=\"24px\"viewBox=\"0 0 24 24\"\n",
              "       width=\"24px\">\n",
              "    <path d=\"M0 0h24v24H0V0z\" fill=\"none\"/>\n",
              "    <path d=\"M18.56 5.44l.94 2.06.94-2.06 2.06-.94-2.06-.94-.94-2.06-.94 2.06-2.06.94zm-11 1L8.5 8.5l.94-2.06 2.06-.94-2.06-.94L8.5 2.5l-.94 2.06-2.06.94zm10 10l.94 2.06.94-2.06 2.06-.94-2.06-.94-.94-2.06-.94 2.06-2.06.94z\"/><path d=\"M17.41 7.96l-1.37-1.37c-.4-.4-.92-.59-1.43-.59-.52 0-1.04.2-1.43.59L10.3 9.45l-7.72 7.72c-.78.78-.78 2.05 0 2.83L4 21.41c.39.39.9.59 1.41.59.51 0 1.02-.2 1.41-.59l7.78-7.78 2.81-2.81c.8-.78.8-2.07 0-2.86zM5.41 20L4 18.59l7.72-7.72 1.47 1.35L5.41 20z\"/>\n",
              "  </svg>\n",
              "      </button>\n",
              "      \n",
              "  <style>\n",
              "    .colab-df-container {\n",
              "      display:flex;\n",
              "      flex-wrap:wrap;\n",
              "      gap: 12px;\n",
              "    }\n",
              "\n",
              "    .colab-df-convert {\n",
              "      background-color: #E8F0FE;\n",
              "      border: none;\n",
              "      border-radius: 50%;\n",
              "      cursor: pointer;\n",
              "      display: none;\n",
              "      fill: #1967D2;\n",
              "      height: 32px;\n",
              "      padding: 0 0 0 0;\n",
              "      width: 32px;\n",
              "    }\n",
              "\n",
              "    .colab-df-convert:hover {\n",
              "      background-color: #E2EBFA;\n",
              "      box-shadow: 0px 1px 2px rgba(60, 64, 67, 0.3), 0px 1px 3px 1px rgba(60, 64, 67, 0.15);\n",
              "      fill: #174EA6;\n",
              "    }\n",
              "\n",
              "    [theme=dark] .colab-df-convert {\n",
              "      background-color: #3B4455;\n",
              "      fill: #D2E3FC;\n",
              "    }\n",
              "\n",
              "    [theme=dark] .colab-df-convert:hover {\n",
              "      background-color: #434B5C;\n",
              "      box-shadow: 0px 1px 3px 1px rgba(0, 0, 0, 0.15);\n",
              "      filter: drop-shadow(0px 1px 2px rgba(0, 0, 0, 0.3));\n",
              "      fill: #FFFFFF;\n",
              "    }\n",
              "  </style>\n",
              "\n",
              "      <script>\n",
              "        const buttonEl =\n",
              "          document.querySelector('#df-457bed2c-a46b-4fc6-90bb-450711ba07db button.colab-df-convert');\n",
              "        buttonEl.style.display =\n",
              "          google.colab.kernel.accessAllowed ? 'block' : 'none';\n",
              "\n",
              "        async function convertToInteractive(key) {\n",
              "          const element = document.querySelector('#df-457bed2c-a46b-4fc6-90bb-450711ba07db');\n",
              "          const dataTable =\n",
              "            await google.colab.kernel.invokeFunction('convertToInteractive',\n",
              "                                                     [key], {});\n",
              "          if (!dataTable) return;\n",
              "\n",
              "          const docLinkHtml = 'Like what you see? Visit the ' +\n",
              "            '<a target=\"_blank\" href=https://colab.research.google.com/notebooks/data_table.ipynb>data table notebook</a>'\n",
              "            + ' to learn more about interactive tables.';\n",
              "          element.innerHTML = '';\n",
              "          dataTable['output_type'] = 'display_data';\n",
              "          await google.colab.output.renderOutput(dataTable, element);\n",
              "          const docLink = document.createElement('div');\n",
              "          docLink.innerHTML = docLinkHtml;\n",
              "          element.appendChild(docLink);\n",
              "        }\n",
              "      </script>\n",
              "    </div>\n",
              "  </div>\n",
              "  "
            ]
          },
          "metadata": {},
          "execution_count": 101
        }
      ]
    },
    {
      "cell_type": "code",
      "source": [
        "# Границы дат\n",
        "print(weather['date'].min())\n",
        "print(weather['date'].max())"
      ],
      "metadata": {
        "colab": {
          "base_uri": "https://localhost:8080/"
        },
        "id": "EyS2rD44z2nO",
        "outputId": "92f7b529-dd2f-42d6-9581-823e0397b08a"
      },
      "execution_count": null,
      "outputs": [
        {
          "output_type": "stream",
          "name": "stdout",
          "text": [
            "2021-01-01\n",
            "2022-10-31\n"
          ]
        }
      ]
    },
    {
      "cell_type": "code",
      "source": [
        "# Убираем колонки с нулевыми значениями\n",
        "weather = weather.drop(['station', 'elevation', 'pgtm', 'tavg', 'tsun'], axis=1)\n",
        "weather.info()"
      ],
      "metadata": {
        "colab": {
          "base_uri": "https://localhost:8080/"
        },
        "id": "7XeKxQ6Ts4Nv",
        "outputId": "6c8c1215-16cb-4b3a-8016-4c09470f7009"
      },
      "execution_count": null,
      "outputs": [
        {
          "output_type": "stream",
          "name": "stdout",
          "text": [
            "<class 'pandas.core.frame.DataFrame'>\n",
            "RangeIndex: 669 entries, 0 to 668\n",
            "Data columns (total 14 columns):\n",
            " #   Column     Non-Null Count  Dtype  \n",
            "---  ------     --------------  -----  \n",
            " 0   name       669 non-null    object \n",
            " 1   latitude   669 non-null    float64\n",
            " 2   longitude  669 non-null    float64\n",
            " 3   date       669 non-null    object \n",
            " 4   awnd       652 non-null    float64\n",
            " 5   prcp       669 non-null    float64\n",
            " 6   snow       669 non-null    float64\n",
            " 7   snwd       669 non-null    float64\n",
            " 8   tmax       669 non-null    float64\n",
            " 9   tmin       669 non-null    float64\n",
            " 10  wdf2       653 non-null    float64\n",
            " 11  wdf5       647 non-null    float64\n",
            " 12  wsf2       653 non-null    float64\n",
            " 13  wsf5       647 non-null    float64\n",
            "dtypes: float64(12), object(2)\n",
            "memory usage: 73.3+ KB\n"
          ]
        }
      ]
    },
    {
      "cell_type": "code",
      "source": [
        "# Проверим на количество дубликатов в данных\n",
        "print(\"Дубликатов в датасете:\", len(weather[weather.duplicated(keep=False)]))"
      ],
      "metadata": {
        "colab": {
          "base_uri": "https://localhost:8080/"
        },
        "id": "IqDHouDM7UGE",
        "outputId": "a785a143-29af-40b0-811b-1cd87d077f95"
      },
      "execution_count": null,
      "outputs": [
        {
          "output_type": "stream",
          "name": "stdout",
          "text": [
            "Дубликатов в датасете: 0\n"
          ]
        }
      ]
    },
    {
      "cell_type": "code",
      "source": [
        "weather.describe()"
      ],
      "metadata": {
        "colab": {
          "base_uri": "https://localhost:8080/",
          "height": 344
        },
        "id": "0IrxUgEvLIs-",
        "outputId": "ca9a6ba0-58b3-45a9-c7df-4249c616bebf"
      },
      "execution_count": null,
      "outputs": [
        {
          "output_type": "execute_result",
          "data": {
            "text/plain": [
              "           latitude  longitude        awnd        prcp        snow  \\\n",
              "count  6.690000e+02  669.00000  652.000000  669.000000  669.000000   \n",
              "mean   4.077898e+01  -73.96925    2.278834    3.686099    1.742900   \n",
              "std    7.110744e-15    0.00000    1.076825   11.574083   18.262465   \n",
              "min    4.077898e+01  -73.96925    0.400000    0.000000    0.000000   \n",
              "25%    4.077898e+01  -73.96925    1.400000    0.000000    0.000000   \n",
              "50%    4.077898e+01  -73.96925    2.100000    0.000000    0.000000   \n",
              "75%    4.077898e+01  -73.96925    2.900000    1.800000    0.000000   \n",
              "max    4.077898e+01  -73.96925    6.400000  181.100000  376.000000   \n",
              "\n",
              "             snwd        tmax        tmin        wdf2        wdf5        wsf2  \\\n",
              "count  669.000000  669.000000  669.000000  653.000000  647.000000  653.000000   \n",
              "mean     8.116592   18.325859   10.372347  196.768760  194.418856    6.254824   \n",
              "std     39.145569    9.926489    9.201616  101.474422   97.779903    1.893036   \n",
              "min      0.000000   -6.000000  -12.100000   10.000000   10.000000    2.700000   \n",
              "25%      0.000000   10.600000    3.300000   70.000000  110.000000    4.500000   \n",
              "50%      0.000000   20.000000   10.600000  230.000000  220.000000    5.800000   \n",
              "75%      0.000000   26.700000   18.300000  290.000000  280.000000    7.200000   \n",
              "max    360.000000   36.700000   26.100000  360.000000  360.000000   13.000000   \n",
              "\n",
              "             wsf5        tavg  \n",
              "count  647.000000  669.000000  \n",
              "mean     9.887172   14.349103  \n",
              "std      3.116952    9.460457  \n",
              "min      4.000000   -9.050000  \n",
              "25%      7.600000    6.650000  \n",
              "50%      9.400000   15.000000  \n",
              "75%     11.600000   22.500000  \n",
              "max     21.900000   30.850000  "
            ],
            "text/html": [
              "\n",
              "  <div id=\"df-e695be0c-93fb-4d82-8576-eca60aba2e17\">\n",
              "    <div class=\"colab-df-container\">\n",
              "      <div>\n",
              "<style scoped>\n",
              "    .dataframe tbody tr th:only-of-type {\n",
              "        vertical-align: middle;\n",
              "    }\n",
              "\n",
              "    .dataframe tbody tr th {\n",
              "        vertical-align: top;\n",
              "    }\n",
              "\n",
              "    .dataframe thead th {\n",
              "        text-align: right;\n",
              "    }\n",
              "</style>\n",
              "<table border=\"1\" class=\"dataframe\">\n",
              "  <thead>\n",
              "    <tr style=\"text-align: right;\">\n",
              "      <th></th>\n",
              "      <th>latitude</th>\n",
              "      <th>longitude</th>\n",
              "      <th>awnd</th>\n",
              "      <th>prcp</th>\n",
              "      <th>snow</th>\n",
              "      <th>snwd</th>\n",
              "      <th>tmax</th>\n",
              "      <th>tmin</th>\n",
              "      <th>wdf2</th>\n",
              "      <th>wdf5</th>\n",
              "      <th>wsf2</th>\n",
              "      <th>wsf5</th>\n",
              "      <th>tavg</th>\n",
              "    </tr>\n",
              "  </thead>\n",
              "  <tbody>\n",
              "    <tr>\n",
              "      <th>count</th>\n",
              "      <td>6.690000e+02</td>\n",
              "      <td>669.00000</td>\n",
              "      <td>652.000000</td>\n",
              "      <td>669.000000</td>\n",
              "      <td>669.000000</td>\n",
              "      <td>669.000000</td>\n",
              "      <td>669.000000</td>\n",
              "      <td>669.000000</td>\n",
              "      <td>653.000000</td>\n",
              "      <td>647.000000</td>\n",
              "      <td>653.000000</td>\n",
              "      <td>647.000000</td>\n",
              "      <td>669.000000</td>\n",
              "    </tr>\n",
              "    <tr>\n",
              "      <th>mean</th>\n",
              "      <td>4.077898e+01</td>\n",
              "      <td>-73.96925</td>\n",
              "      <td>2.278834</td>\n",
              "      <td>3.686099</td>\n",
              "      <td>1.742900</td>\n",
              "      <td>8.116592</td>\n",
              "      <td>18.325859</td>\n",
              "      <td>10.372347</td>\n",
              "      <td>196.768760</td>\n",
              "      <td>194.418856</td>\n",
              "      <td>6.254824</td>\n",
              "      <td>9.887172</td>\n",
              "      <td>14.349103</td>\n",
              "    </tr>\n",
              "    <tr>\n",
              "      <th>std</th>\n",
              "      <td>7.110744e-15</td>\n",
              "      <td>0.00000</td>\n",
              "      <td>1.076825</td>\n",
              "      <td>11.574083</td>\n",
              "      <td>18.262465</td>\n",
              "      <td>39.145569</td>\n",
              "      <td>9.926489</td>\n",
              "      <td>9.201616</td>\n",
              "      <td>101.474422</td>\n",
              "      <td>97.779903</td>\n",
              "      <td>1.893036</td>\n",
              "      <td>3.116952</td>\n",
              "      <td>9.460457</td>\n",
              "    </tr>\n",
              "    <tr>\n",
              "      <th>min</th>\n",
              "      <td>4.077898e+01</td>\n",
              "      <td>-73.96925</td>\n",
              "      <td>0.400000</td>\n",
              "      <td>0.000000</td>\n",
              "      <td>0.000000</td>\n",
              "      <td>0.000000</td>\n",
              "      <td>-6.000000</td>\n",
              "      <td>-12.100000</td>\n",
              "      <td>10.000000</td>\n",
              "      <td>10.000000</td>\n",
              "      <td>2.700000</td>\n",
              "      <td>4.000000</td>\n",
              "      <td>-9.050000</td>\n",
              "    </tr>\n",
              "    <tr>\n",
              "      <th>25%</th>\n",
              "      <td>4.077898e+01</td>\n",
              "      <td>-73.96925</td>\n",
              "      <td>1.400000</td>\n",
              "      <td>0.000000</td>\n",
              "      <td>0.000000</td>\n",
              "      <td>0.000000</td>\n",
              "      <td>10.600000</td>\n",
              "      <td>3.300000</td>\n",
              "      <td>70.000000</td>\n",
              "      <td>110.000000</td>\n",
              "      <td>4.500000</td>\n",
              "      <td>7.600000</td>\n",
              "      <td>6.650000</td>\n",
              "    </tr>\n",
              "    <tr>\n",
              "      <th>50%</th>\n",
              "      <td>4.077898e+01</td>\n",
              "      <td>-73.96925</td>\n",
              "      <td>2.100000</td>\n",
              "      <td>0.000000</td>\n",
              "      <td>0.000000</td>\n",
              "      <td>0.000000</td>\n",
              "      <td>20.000000</td>\n",
              "      <td>10.600000</td>\n",
              "      <td>230.000000</td>\n",
              "      <td>220.000000</td>\n",
              "      <td>5.800000</td>\n",
              "      <td>9.400000</td>\n",
              "      <td>15.000000</td>\n",
              "    </tr>\n",
              "    <tr>\n",
              "      <th>75%</th>\n",
              "      <td>4.077898e+01</td>\n",
              "      <td>-73.96925</td>\n",
              "      <td>2.900000</td>\n",
              "      <td>1.800000</td>\n",
              "      <td>0.000000</td>\n",
              "      <td>0.000000</td>\n",
              "      <td>26.700000</td>\n",
              "      <td>18.300000</td>\n",
              "      <td>290.000000</td>\n",
              "      <td>280.000000</td>\n",
              "      <td>7.200000</td>\n",
              "      <td>11.600000</td>\n",
              "      <td>22.500000</td>\n",
              "    </tr>\n",
              "    <tr>\n",
              "      <th>max</th>\n",
              "      <td>4.077898e+01</td>\n",
              "      <td>-73.96925</td>\n",
              "      <td>6.400000</td>\n",
              "      <td>181.100000</td>\n",
              "      <td>376.000000</td>\n",
              "      <td>360.000000</td>\n",
              "      <td>36.700000</td>\n",
              "      <td>26.100000</td>\n",
              "      <td>360.000000</td>\n",
              "      <td>360.000000</td>\n",
              "      <td>13.000000</td>\n",
              "      <td>21.900000</td>\n",
              "      <td>30.850000</td>\n",
              "    </tr>\n",
              "  </tbody>\n",
              "</table>\n",
              "</div>\n",
              "      <button class=\"colab-df-convert\" onclick=\"convertToInteractive('df-e695be0c-93fb-4d82-8576-eca60aba2e17')\"\n",
              "              title=\"Convert this dataframe to an interactive table.\"\n",
              "              style=\"display:none;\">\n",
              "        \n",
              "  <svg xmlns=\"http://www.w3.org/2000/svg\" height=\"24px\"viewBox=\"0 0 24 24\"\n",
              "       width=\"24px\">\n",
              "    <path d=\"M0 0h24v24H0V0z\" fill=\"none\"/>\n",
              "    <path d=\"M18.56 5.44l.94 2.06.94-2.06 2.06-.94-2.06-.94-.94-2.06-.94 2.06-2.06.94zm-11 1L8.5 8.5l.94-2.06 2.06-.94-2.06-.94L8.5 2.5l-.94 2.06-2.06.94zm10 10l.94 2.06.94-2.06 2.06-.94-2.06-.94-.94-2.06-.94 2.06-2.06.94z\"/><path d=\"M17.41 7.96l-1.37-1.37c-.4-.4-.92-.59-1.43-.59-.52 0-1.04.2-1.43.59L10.3 9.45l-7.72 7.72c-.78.78-.78 2.05 0 2.83L4 21.41c.39.39.9.59 1.41.59.51 0 1.02-.2 1.41-.59l7.78-7.78 2.81-2.81c.8-.78.8-2.07 0-2.86zM5.41 20L4 18.59l7.72-7.72 1.47 1.35L5.41 20z\"/>\n",
              "  </svg>\n",
              "      </button>\n",
              "      \n",
              "  <style>\n",
              "    .colab-df-container {\n",
              "      display:flex;\n",
              "      flex-wrap:wrap;\n",
              "      gap: 12px;\n",
              "    }\n",
              "\n",
              "    .colab-df-convert {\n",
              "      background-color: #E8F0FE;\n",
              "      border: none;\n",
              "      border-radius: 50%;\n",
              "      cursor: pointer;\n",
              "      display: none;\n",
              "      fill: #1967D2;\n",
              "      height: 32px;\n",
              "      padding: 0 0 0 0;\n",
              "      width: 32px;\n",
              "    }\n",
              "\n",
              "    .colab-df-convert:hover {\n",
              "      background-color: #E2EBFA;\n",
              "      box-shadow: 0px 1px 2px rgba(60, 64, 67, 0.3), 0px 1px 3px 1px rgba(60, 64, 67, 0.15);\n",
              "      fill: #174EA6;\n",
              "    }\n",
              "\n",
              "    [theme=dark] .colab-df-convert {\n",
              "      background-color: #3B4455;\n",
              "      fill: #D2E3FC;\n",
              "    }\n",
              "\n",
              "    [theme=dark] .colab-df-convert:hover {\n",
              "      background-color: #434B5C;\n",
              "      box-shadow: 0px 1px 3px 1px rgba(0, 0, 0, 0.15);\n",
              "      filter: drop-shadow(0px 1px 2px rgba(0, 0, 0, 0.3));\n",
              "      fill: #FFFFFF;\n",
              "    }\n",
              "  </style>\n",
              "\n",
              "      <script>\n",
              "        const buttonEl =\n",
              "          document.querySelector('#df-e695be0c-93fb-4d82-8576-eca60aba2e17 button.colab-df-convert');\n",
              "        buttonEl.style.display =\n",
              "          google.colab.kernel.accessAllowed ? 'block' : 'none';\n",
              "\n",
              "        async function convertToInteractive(key) {\n",
              "          const element = document.querySelector('#df-e695be0c-93fb-4d82-8576-eca60aba2e17');\n",
              "          const dataTable =\n",
              "            await google.colab.kernel.invokeFunction('convertToInteractive',\n",
              "                                                     [key], {});\n",
              "          if (!dataTable) return;\n",
              "\n",
              "          const docLinkHtml = 'Like what you see? Visit the ' +\n",
              "            '<a target=\"_blank\" href=https://colab.research.google.com/notebooks/data_table.ipynb>data table notebook</a>'\n",
              "            + ' to learn more about interactive tables.';\n",
              "          element.innerHTML = '';\n",
              "          dataTable['output_type'] = 'display_data';\n",
              "          await google.colab.output.renderOutput(dataTable, element);\n",
              "          const docLink = document.createElement('div');\n",
              "          docLink.innerHTML = docLinkHtml;\n",
              "          element.appendChild(docLink);\n",
              "        }\n",
              "      </script>\n",
              "    </div>\n",
              "  </div>\n",
              "  "
            ]
          },
          "metadata": {},
          "execution_count": 48
        }
      ]
    },
    {
      "cell_type": "markdown",
      "source": [
        "Осадков, а в особенности снега, почти нет."
      ],
      "metadata": {
        "id": "1UCxu8izLTfk"
      }
    },
    {
      "cell_type": "code",
      "source": [
        "# Распределение макс. температуры\n",
        "weather.tmax.hist(bins=40);"
      ],
      "metadata": {
        "colab": {
          "base_uri": "https://localhost:8080/",
          "height": 265
        },
        "id": "MOKD_a87u4eS",
        "outputId": "6a1e7d89-82ad-4790-d4c3-9ffa311a16ce"
      },
      "execution_count": null,
      "outputs": [
        {
          "output_type": "display_data",
          "data": {
            "text/plain": [
              "<Figure size 432x288 with 1 Axes>"
            ],
            "image/png": "[encoded data removed]"
          },
          "metadata": {
            "needs_background": "light"
          }
        }
      ]
    },
    {
      "cell_type": "code",
      "source": [
        "# Распределение мин. температуры\n",
        "weather.tmin.hist(bins=40);"
      ],
      "metadata": {
        "colab": {
          "base_uri": "https://localhost:8080/",
          "height": 265
        },
        "id": "FzNcEAVCvK08",
        "outputId": "26086084-f10d-47a2-c60d-4204e2fd4d5e"
      },
      "execution_count": null,
      "outputs": [
        {
          "output_type": "display_data",
          "data": {
            "text/plain": [
              "<Figure size 432x288 with 1 Axes>"
            ],
            "image/png": "[encoded data removed]"
          },
          "metadata": {
            "needs_background": "light"
          }
        }
      ]
    },
    {
      "cell_type": "code",
      "source": [
        "weather.boxplot('tmin');"
      ],
      "metadata": {
        "colab": {
          "base_uri": "https://localhost:8080/",
          "height": 265
        },
        "id": "eCEVI6ulwelM",
        "outputId": "8c0cfa7c-a251-49fc-c87c-57b35172ccc4"
      },
      "execution_count": null,
      "outputs": [
        {
          "output_type": "display_data",
          "data": {
            "text/plain": [
              "<Figure size 432x288 with 1 Axes>"
            ],
            "image/png": "[encoded data removed]"
          },
          "metadata": {
            "needs_background": "light"
          }
        }
      ]
    },
    {
      "cell_type": "code",
      "source": [
        "# Создаём колонку со средней температурой и смотрим распределение\n",
        "weather['tavg'] = (weather['tmax'] + weather['tmin']) / 2\n",
        "weather['tavg'].hist();"
      ],
      "metadata": {
        "colab": {
          "base_uri": "https://localhost:8080/",
          "height": 265
        },
        "id": "r7cJS10bv6SY",
        "outputId": "f4fbb69f-c73c-4b47-8b69-5f095d80df33"
      },
      "execution_count": null,
      "outputs": [
        {
          "output_type": "display_data",
          "data": {
            "text/plain": [
              "<Figure size 432x288 with 1 Axes>"
            ],
            "image/png": "[encoded data removed]"
          },
          "metadata": {
            "needs_background": "light"
          }
        }
      ]
    },
    {
      "cell_type": "code",
      "source": [
        "# Осадки\n",
        "plt.figure(figsize=(15, 4));\n",
        "sns.lineplot(data=weather, x='date', y='prcp');"
      ],
      "metadata": {
        "colab": {
          "base_uri": "https://localhost:8080/",
          "height": 279
        },
        "id": "ITOXLSQ9v0lN",
        "outputId": "6bab4ac3-9081-42e9-851a-3c672ea43022"
      },
      "execution_count": null,
      "outputs": [
        {
          "output_type": "display_data",
          "data": {
            "text/plain": [
              "<Figure size 1080x288 with 1 Axes>"
            ],
            "image/png": "[encoded data removed]"
          },
          "metadata": {
            "needs_background": "light"
          }
        }
      ]
    },
    {
      "cell_type": "code",
      "source": [
        "# Снег\n",
        "plt.figure(figsize=(10, 4));\n",
        "sns.lineplot(data=weather, x='date', y='snow');"
      ],
      "metadata": {
        "colab": {
          "base_uri": "https://localhost:8080/",
          "height": 279
        },
        "id": "jwg3SjmaMNMF",
        "outputId": "456b46e8-dd75-452c-d992-7a4e13deb3c3"
      },
      "execution_count": null,
      "outputs": [
        {
          "output_type": "display_data",
          "data": {
            "text/plain": [
              "<Figure size 720x288 with 1 Axes>"
            ],
            "image/png": "[encoded data removed]"
          },
          "metadata": {
            "needs_background": "light"
          }
        }
      ]
    },
    {
      "cell_type": "code",
      "source": [
        "# Направление ветра в промежутке 2 минут и 5 секунд\n",
        "weather['wdf2'].hist(alpha=0.8);\n",
        "weather['wdf5'].hist(alpha=0.5);"
      ],
      "metadata": {
        "colab": {
          "base_uri": "https://localhost:8080/",
          "height": 265
        },
        "id": "lsOzgjYwyFoA",
        "outputId": "cf574120-84ef-46ee-8b54-0eae8bf6fcfb"
      },
      "execution_count": null,
      "outputs": [
        {
          "output_type": "display_data",
          "data": {
            "text/plain": [
              "<Figure size 432x288 with 1 Axes>"
            ],
            "image/png": "[encoded data removed]"
          },
          "metadata": {
            "needs_background": "light"
          }
        }
      ]
    },
    {
      "cell_type": "code",
      "source": [
        "# Скорость ветра в промежутке 2 минут и 5 секунд\n",
        "weather['wsf2'].hist(alpha=0.8);\n",
        "weather['wsf5'].hist(alpha=0.5);"
      ],
      "metadata": {
        "colab": {
          "base_uri": "https://localhost:8080/",
          "height": 265
        },
        "id": "OgNa4RhqzSKi",
        "outputId": "c0064932-c825-4d4d-d0af-f74d34407cb8"
      },
      "execution_count": null,
      "outputs": [
        {
          "output_type": "display_data",
          "data": {
            "text/plain": [
              "<Figure size 432x288 with 1 Axes>"
            ],
            "image/png": "[encoded data removed]"
          },
          "metadata": {
            "needs_background": "light"
          }
        }
      ]
    },
    {
      "cell_type": "code",
      "source": [
        "# Средняя скорость ветра в м/с\n",
        "weather['awnd'].hist();"
      ],
      "metadata": {
        "colab": {
          "base_uri": "https://localhost:8080/",
          "height": 266
        },
        "id": "UUfUcNcJySq1",
        "outputId": "c0996c31-4af2-4ace-8912-555cf3ed4cc0"
      },
      "execution_count": null,
      "outputs": [
        {
          "output_type": "display_data",
          "data": {
            "text/plain": [
              "<Figure size 432x288 with 1 Axes>"
            ],
            "image/png": "[encoded data removed]"
          },
          "metadata": {
            "needs_background": "light"
          }
        }
      ]
    },
    {
      "cell_type": "code",
      "source": [
        "# Создадим сводную таблицу с группировкой по дням. Посчитаем количество поездок и среднюю продолжительность\n",
        "data_count = data.pivot_table(index=['start_date'], \n",
        "                              columns=['member_casual'], \n",
        "                              values=['ride_id', 'duration'], \n",
        "                              aggfunc={'ride_id':'count', 'duration':'mean'}).reset_index()\n",
        "\n",
        "# Создадим столбцы с общими показателями\n",
        "data_count.columns = ['start_date', 'casual_duration', 'member_duration', 'casual_count', 'member_count']\n",
        "data_count['count'] = data_count['casual_count'] + data_count['member_count']\n",
        "data_count['duration'] = (data_count['casual_duration'] + data_count['member_duration']) / 2\n",
        "\n",
        "# Присоединим данные о погоде\n",
        "data_count = data_count.merge(weather, how='left', left_on='start_date', right_on='date')\n",
        "# Уберём лишнее\n",
        "data_count = data_count.drop(['latitude', 'longitude', 'name', 'date'], axis=1)\n",
        "data_count.head()"
      ],
      "metadata": {
        "colab": {
          "base_uri": "https://localhost:8080/",
          "height": 270
        },
        "id": "sh1RJgflrzVR",
        "outputId": "ca839354-d3df-4d75-8c8f-aa3b1e56b68b"
      },
      "execution_count": null,
      "outputs": [
        {
          "output_type": "execute_result",
          "data": {
            "text/plain": [
              "   start_date  casual_duration  member_duration  casual_count  member_count  \\\n",
              "0  2022-09-01        13.819325         8.816727          1259          2542   \n",
              "1  2022-09-02        15.208177         9.845765          1382          2333   \n",
              "2  2022-09-03        18.008899        10.448416          1480          1667   \n",
              "3  2022-09-04        18.446230        10.954201          1406          1490   \n",
              "4  2022-09-05        18.571291        10.114816          1193          1605   \n",
              "\n",
              "   count   duration  awnd  prcp  snow  snwd  tmax  tmin   wdf2   wdf5  wsf2  \\\n",
              "0   3801  11.318026   1.8   0.0   0.0   0.0  30.0  20.6  310.0  300.0   6.3   \n",
              "1   3715  12.526971   1.7   0.0   0.0   0.0  26.1  16.7   50.0   50.0   5.4   \n",
              "2   3147  14.228657   1.0   0.0   0.0   0.0  27.8  18.3  150.0  120.0   3.1   \n",
              "3   2896  14.700216   1.2   0.0   0.0   0.0  32.2  21.7  250.0  290.0   4.5   \n",
              "4   2798  14.343054   0.9   1.5   0.0   0.0  31.1  22.8  180.0  190.0   4.0   \n",
              "\n",
              "   wsf5   tavg  \n",
              "0   9.4  25.30  \n",
              "1   7.2  21.40  \n",
              "2   6.3  23.05  \n",
              "3   6.3  26.95  \n",
              "4   7.6  26.95  "
            ],
            "text/html": [
              "\n",
              "  <div id=\"df-536fc3c6-742c-4e6f-abf6-21d6810493ec\">\n",
              "    <div class=\"colab-df-container\">\n",
              "      <div>\n",
              "<style scoped>\n",
              "    .dataframe tbody tr th:only-of-type {\n",
              "        vertical-align: middle;\n",
              "    }\n",
              "\n",
              "    .dataframe tbody tr th {\n",
              "        vertical-align: top;\n",
              "    }\n",
              "\n",
              "    .dataframe thead th {\n",
              "        text-align: right;\n",
              "    }\n",
              "</style>\n",
              "<table border=\"1\" class=\"dataframe\">\n",
              "  <thead>\n",
              "    <tr style=\"text-align: right;\">\n",
              "      <th></th>\n",
              "      <th>start_date</th>\n",
              "      <th>casual_duration</th>\n",
              "      <th>member_duration</th>\n",
              "      <th>casual_count</th>\n",
              "      <th>member_count</th>\n",
              "      <th>count</th>\n",
              "      <th>duration</th>\n",
              "      <th>awnd</th>\n",
              "      <th>prcp</th>\n",
              "      <th>snow</th>\n",
              "      <th>snwd</th>\n",
              "      <th>tmax</th>\n",
              "      <th>tmin</th>\n",
              "      <th>wdf2</th>\n",
              "      <th>wdf5</th>\n",
              "      <th>wsf2</th>\n",
              "      <th>wsf5</th>\n",
              "      <th>tavg</th>\n",
              "    </tr>\n",
              "  </thead>\n",
              "  <tbody>\n",
              "    <tr>\n",
              "      <th>0</th>\n",
              "      <td>2022-09-01</td>\n",
              "      <td>13.819325</td>\n",
              "      <td>8.816727</td>\n",
              "      <td>1259</td>\n",
              "      <td>2542</td>\n",
              "      <td>3801</td>\n",
              "      <td>11.318026</td>\n",
              "      <td>1.8</td>\n",
              "      <td>0.0</td>\n",
              "      <td>0.0</td>\n",
              "      <td>0.0</td>\n",
              "      <td>30.0</td>\n",
              "      <td>20.6</td>\n",
              "      <td>310.0</td>\n",
              "      <td>300.0</td>\n",
              "      <td>6.3</td>\n",
              "      <td>9.4</td>\n",
              "      <td>25.30</td>\n",
              "    </tr>\n",
              "    <tr>\n",
              "      <th>1</th>\n",
              "      <td>2022-09-02</td>\n",
              "      <td>15.208177</td>\n",
              "      <td>9.845765</td>\n",
              "      <td>1382</td>\n",
              "      <td>2333</td>\n",
              "      <td>3715</td>\n",
              "      <td>12.526971</td>\n",
              "      <td>1.7</td>\n",
              "      <td>0.0</td>\n",
              "      <td>0.0</td>\n",
              "      <td>0.0</td>\n",
              "      <td>26.1</td>\n",
              "      <td>16.7</td>\n",
              "      <td>50.0</td>\n",
              "      <td>50.0</td>\n",
              "      <td>5.4</td>\n",
              "      <td>7.2</td>\n",
              "      <td>21.40</td>\n",
              "    </tr>\n",
              "    <tr>\n",
              "      <th>2</th>\n",
              "      <td>2022-09-03</td>\n",
              "      <td>18.008899</td>\n",
              "      <td>10.448416</td>\n",
              "      <td>1480</td>\n",
              "      <td>1667</td>\n",
              "      <td>3147</td>\n",
              "      <td>14.228657</td>\n",
              "      <td>1.0</td>\n",
              "      <td>0.0</td>\n",
              "      <td>0.0</td>\n",
              "      <td>0.0</td>\n",
              "      <td>27.8</td>\n",
              "      <td>18.3</td>\n",
              "      <td>150.0</td>\n",
              "      <td>120.0</td>\n",
              "      <td>3.1</td>\n",
              "      <td>6.3</td>\n",
              "      <td>23.05</td>\n",
              "    </tr>\n",
              "    <tr>\n",
              "      <th>3</th>\n",
              "      <td>2022-09-04</td>\n",
              "      <td>18.446230</td>\n",
              "      <td>10.954201</td>\n",
              "      <td>1406</td>\n",
              "      <td>1490</td>\n",
              "      <td>2896</td>\n",
              "      <td>14.700216</td>\n",
              "      <td>1.2</td>\n",
              "      <td>0.0</td>\n",
              "      <td>0.0</td>\n",
              "      <td>0.0</td>\n",
              "      <td>32.2</td>\n",
              "      <td>21.7</td>\n",
              "      <td>250.0</td>\n",
              "      <td>290.0</td>\n",
              "      <td>4.5</td>\n",
              "      <td>6.3</td>\n",
              "      <td>26.95</td>\n",
              "    </tr>\n",
              "    <tr>\n",
              "      <th>4</th>\n",
              "      <td>2022-09-05</td>\n",
              "      <td>18.571291</td>\n",
              "      <td>10.114816</td>\n",
              "      <td>1193</td>\n",
              "      <td>1605</td>\n",
              "      <td>2798</td>\n",
              "      <td>14.343054</td>\n",
              "      <td>0.9</td>\n",
              "      <td>1.5</td>\n",
              "      <td>0.0</td>\n",
              "      <td>0.0</td>\n",
              "      <td>31.1</td>\n",
              "      <td>22.8</td>\n",
              "      <td>180.0</td>\n",
              "      <td>190.0</td>\n",
              "      <td>4.0</td>\n",
              "      <td>7.6</td>\n",
              "      <td>26.95</td>\n",
              "    </tr>\n",
              "  </tbody>\n",
              "</table>\n",
              "</div>\n",
              "      <button class=\"colab-df-convert\" onclick=\"convertToInteractive('df-536fc3c6-742c-4e6f-abf6-21d6810493ec')\"\n",
              "              title=\"Convert this dataframe to an interactive table.\"\n",
              "              style=\"display:none;\">\n",
              "        \n",
              "  <svg xmlns=\"http://www.w3.org/2000/svg\" height=\"24px\"viewBox=\"0 0 24 24\"\n",
              "       width=\"24px\">\n",
              "    <path d=\"M0 0h24v24H0V0z\" fill=\"none\"/>\n",
              "    <path d=\"M18.56 5.44l.94 2.06.94-2.06 2.06-.94-2.06-.94-.94-2.06-.94 2.06-2.06.94zm-11 1L8.5 8.5l.94-2.06 2.06-.94-2.06-.94L8.5 2.5l-.94 2.06-2.06.94zm10 10l.94 2.06.94-2.06 2.06-.94-2.06-.94-.94-2.06-.94 2.06-2.06.94z\"/><path d=\"M17.41 7.96l-1.37-1.37c-.4-.4-.92-.59-1.43-.59-.52 0-1.04.2-1.43.59L10.3 9.45l-7.72 7.72c-.78.78-.78 2.05 0 2.83L4 21.41c.39.39.9.59 1.41.59.51 0 1.02-.2 1.41-.59l7.78-7.78 2.81-2.81c.8-.78.8-2.07 0-2.86zM5.41 20L4 18.59l7.72-7.72 1.47 1.35L5.41 20z\"/>\n",
              "  </svg>\n",
              "      </button>\n",
              "      \n",
              "  <style>\n",
              "    .colab-df-container {\n",
              "      display:flex;\n",
              "      flex-wrap:wrap;\n",
              "      gap: 12px;\n",
              "    }\n",
              "\n",
              "    .colab-df-convert {\n",
              "      background-color: #E8F0FE;\n",
              "      border: none;\n",
              "      border-radius: 50%;\n",
              "      cursor: pointer;\n",
              "      display: none;\n",
              "      fill: #1967D2;\n",
              "      height: 32px;\n",
              "      padding: 0 0 0 0;\n",
              "      width: 32px;\n",
              "    }\n",
              "\n",
              "    .colab-df-convert:hover {\n",
              "      background-color: #E2EBFA;\n",
              "      box-shadow: 0px 1px 2px rgba(60, 64, 67, 0.3), 0px 1px 3px 1px rgba(60, 64, 67, 0.15);\n",
              "      fill: #174EA6;\n",
              "    }\n",
              "\n",
              "    [theme=dark] .colab-df-convert {\n",
              "      background-color: #3B4455;\n",
              "      fill: #D2E3FC;\n",
              "    }\n",
              "\n",
              "    [theme=dark] .colab-df-convert:hover {\n",
              "      background-color: #434B5C;\n",
              "      box-shadow: 0px 1px 3px 1px rgba(0, 0, 0, 0.15);\n",
              "      filter: drop-shadow(0px 1px 2px rgba(0, 0, 0, 0.3));\n",
              "      fill: #FFFFFF;\n",
              "    }\n",
              "  </style>\n",
              "\n",
              "      <script>\n",
              "        const buttonEl =\n",
              "          document.querySelector('#df-536fc3c6-742c-4e6f-abf6-21d6810493ec button.colab-df-convert');\n",
              "        buttonEl.style.display =\n",
              "          google.colab.kernel.accessAllowed ? 'block' : 'none';\n",
              "\n",
              "        async function convertToInteractive(key) {\n",
              "          const element = document.querySelector('#df-536fc3c6-742c-4e6f-abf6-21d6810493ec');\n",
              "          const dataTable =\n",
              "            await google.colab.kernel.invokeFunction('convertToInteractive',\n",
              "                                                     [key], {});\n",
              "          if (!dataTable) return;\n",
              "\n",
              "          const docLinkHtml = 'Like what you see? Visit the ' +\n",
              "            '<a target=\"_blank\" href=https://colab.research.google.com/notebooks/data_table.ipynb>data table notebook</a>'\n",
              "            + ' to learn more about interactive tables.';\n",
              "          element.innerHTML = '';\n",
              "          dataTable['output_type'] = 'display_data';\n",
              "          await google.colab.output.renderOutput(dataTable, element);\n",
              "          const docLink = document.createElement('div');\n",
              "          docLink.innerHTML = docLinkHtml;\n",
              "          element.appendChild(docLink);\n",
              "        }\n",
              "      </script>\n",
              "    </div>\n",
              "  </div>\n",
              "  "
            ]
          },
          "metadata": {},
          "execution_count": 121
        }
      ]
    },
    {
      "cell_type": "code",
      "source": [
        "# Построим матрицу корреляций\n",
        "plt.figure(figsize=(15, 6));\n",
        "sns.heatmap(round(data_count.corr(), 2), linewidths=.5, annot = True, cmap='coolwarm').set_title('Матрица корреляции');"
      ],
      "metadata": {
        "colab": {
          "base_uri": "https://localhost:8080/",
          "height": 469
        },
        "id": "YecQNY2LO0ge",
        "outputId": "2883460b-9116-4c43-fa62-92ac9bfc030a"
      },
      "execution_count": null,
      "outputs": [
        {
          "output_type": "display_data",
          "data": {
            "text/plain": [
              "<Figure size 1080x432 with 2 Axes>"
            ],
            "image/png": "[encoded data removed]"
          },
          "metadata": {
            "needs_background": "light"
          }
        }
      ]
    },
    {
      "cell_type": "markdown",
      "source": [
        "`snow` и `snwd` не попали в матрицу. Видимо, из-за небольшого количества снега в сентябре и октябре."
      ],
      "metadata": {
        "id": "d1Wv4Sf9vGsJ"
      }
    },
    {
      "cell_type": "markdown",
      "source": [
        "Ср. продолжительность поездок коррелирует со ср. максимальной температурой за день *(r = 0,55)*. Чем теплее на улице днём - тем больше поездок *(0,45)* и ср. продолжительность поездки. Особенно это влияет на тип клиентов casual - корреляция больше на *0,1.*\n",
        "\n",
        "Имеет значение ср. скорость ветра, особенно макс. за 2 минуты.\n",
        "\n",
        "Провал **3 октября** коррелирует с пониженной температурой, обильными осадками и сильной скоростью ветра.\n",
        "\n",
        "Количество осадков (мм) средне коррелирует с количеством поездок *(-0,58)*, но меньше на ср. продолжительность поездки. Все провалы на графике количества поездок - из-за обильных осадков."
      ],
      "metadata": {
        "id": "UrAmI8_2e2Ps"
      }
    },
    {
      "cell_type": "markdown",
      "source": [
        "# Траффик"
      ],
      "metadata": {
        "id": "hrsjEMWtKI3J"
      }
    },
    {
      "cell_type": "markdown",
      "source": [
        "Проверим корреляции с трафиком на дорогах. Возьмём [real-time traffic](https://data.beta.nyc/dataset/nyc-real-time-traffic-speed-data-feed-archived)."
      ],
      "metadata": {
        "id": "ORdLmyWke--U"
      }
    },
    {
      "cell_type": "code",
      "source": [
        "# Импортируем в цикле несколько датасетов за разные месяцы\n",
        "traff = pd.concat(map(pd.read_csv, glob.glob(os.path.join('', \"/content/drive/MyDrive/Data analyst/ride/traffic_*.csv\"))))\n",
        "traff.shape"
      ],
      "metadata": {
        "colab": {
          "base_uri": "https://localhost:8080/"
        },
        "id": "bxxq7zjGKK93",
        "outputId": "8983ad0d-f702-47e6-8900-402c5e810939"
      },
      "execution_count": 208,
      "outputs": [
        {
          "output_type": "execute_result",
          "data": {
            "text/plain": [
              "(2817397, 6)"
            ]
          },
          "metadata": {},
          "execution_count": 208
        }
      ]
    },
    {
      "cell_type": "code",
      "source": [
        "# Добавим отдельно части дат\n",
        "traff['DataAsOf'] =  pd.to_datetime(traff['DataAsOf'])\n",
        "traff['date'] = pd.to_datetime(traff['DataAsOf']).dt.strftime('%Y-%m-%d')\n",
        "traff['time'] = pd.to_datetime(traff['DataAsOf']).dt.strftime('%H')\n",
        "traff['year'] = pd.to_datetime(traff['DataAsOf']).dt.strftime('%Y')\n",
        "#traff['date'] = pd.to_datetime(traff['date'])\n",
        "traff.info()"
      ],
      "metadata": {
        "colab": {
          "base_uri": "https://localhost:8080/"
        },
        "id": "L7PSP2sFKxqL",
        "outputId": "3a93c30c-4041-4caf-b0c1-baa3cd1bf4c8"
      },
      "execution_count": 209,
      "outputs": [
        {
          "output_type": "stream",
          "name": "stdout",
          "text": [
            "<class 'pandas.core.frame.DataFrame'>\n",
            "Int64Index: 2817397 entries, 0 to 1614249\n",
            "Data columns (total 9 columns):\n",
            " #   Column      Dtype         \n",
            "---  ------      -----         \n",
            " 0   Id          int64         \n",
            " 1   Speed       float64       \n",
            " 2   TravelTime  int64         \n",
            " 3   Status      object        \n",
            " 4   DataAsOf    datetime64[ns]\n",
            " 5   linkId      int64         \n",
            " 6   date        object        \n",
            " 7   time        object        \n",
            " 8   year        object        \n",
            "dtypes: datetime64[ns](1), float64(1), int64(3), object(4)\n",
            "memory usage: 215.0+ MB\n"
          ]
        }
      ]
    },
    {
      "cell_type": "code",
      "source": [
        "traff['time'] = traff['time'].astype('int')\n",
        "traff.sample(5)"
      ],
      "metadata": {
        "colab": {
          "base_uri": "https://localhost:8080/",
          "height": 206
        },
        "id": "f_hC8wOWKQKX",
        "outputId": "6ab8df81-0d3d-401b-8766-116b1db13ce5"
      },
      "execution_count": 210,
      "outputs": [
        {
          "output_type": "execute_result",
          "data": {
            "text/plain": [
              "          Id  Speed  TravelTime Status            DataAsOf   linkId  \\\n",
              "816095   419   0.00           0      - 2021-10-29 16:54:04  4616204   \n",
              "974153   149  21.12         336      0 2022-09-05 15:33:03  4616339   \n",
              "1466339  331  52.81         147      0 2022-09-26 21:11:05  4616353   \n",
              "739280   426  47.22         146      0 2022-09-29 02:39:11  4616272   \n",
              "1341190  261  45.98          93      0 2022-09-23 09:43:03  4616226   \n",
              "\n",
              "               date  time  year  \n",
              "816095   2021-10-29    16  2021  \n",
              "974153   2022-09-05    15  2022  \n",
              "1466339  2022-09-26    21  2022  \n",
              "739280   2022-09-29     2  2022  \n",
              "1341190  2022-09-23     9  2022  "
            ],
            "text/html": [
              "\n",
              "  <div id=\"df-2f619f30-23fd-47d0-a16b-a802428bf2cd\">\n",
              "    <div class=\"colab-df-container\">\n",
              "      <div>\n",
              "<style scoped>\n",
              "    .dataframe tbody tr th:only-of-type {\n",
              "        vertical-align: middle;\n",
              "    }\n",
              "\n",
              "    .dataframe tbody tr th {\n",
              "        vertical-align: top;\n",
              "    }\n",
              "\n",
              "    .dataframe thead th {\n",
              "        text-align: right;\n",
              "    }\n",
              "</style>\n",
              "<table border=\"1\" class=\"dataframe\">\n",
              "  <thead>\n",
              "    <tr style=\"text-align: right;\">\n",
              "      <th></th>\n",
              "      <th>Id</th>\n",
              "      <th>Speed</th>\n",
              "      <th>TravelTime</th>\n",
              "      <th>Status</th>\n",
              "      <th>DataAsOf</th>\n",
              "      <th>linkId</th>\n",
              "      <th>date</th>\n",
              "      <th>time</th>\n",
              "      <th>year</th>\n",
              "    </tr>\n",
              "  </thead>\n",
              "  <tbody>\n",
              "    <tr>\n",
              "      <th>816095</th>\n",
              "      <td>419</td>\n",
              "      <td>0.00</td>\n",
              "      <td>0</td>\n",
              "      <td>-</td>\n",
              "      <td>2021-10-29 16:54:04</td>\n",
              "      <td>4616204</td>\n",
              "      <td>2021-10-29</td>\n",
              "      <td>16</td>\n",
              "      <td>2021</td>\n",
              "    </tr>\n",
              "    <tr>\n",
              "      <th>974153</th>\n",
              "      <td>149</td>\n",
              "      <td>21.12</td>\n",
              "      <td>336</td>\n",
              "      <td>0</td>\n",
              "      <td>2022-09-05 15:33:03</td>\n",
              "      <td>4616339</td>\n",
              "      <td>2022-09-05</td>\n",
              "      <td>15</td>\n",
              "      <td>2022</td>\n",
              "    </tr>\n",
              "    <tr>\n",
              "      <th>1466339</th>\n",
              "      <td>331</td>\n",
              "      <td>52.81</td>\n",
              "      <td>147</td>\n",
              "      <td>0</td>\n",
              "      <td>2022-09-26 21:11:05</td>\n",
              "      <td>4616353</td>\n",
              "      <td>2022-09-26</td>\n",
              "      <td>21</td>\n",
              "      <td>2022</td>\n",
              "    </tr>\n",
              "    <tr>\n",
              "      <th>739280</th>\n",
              "      <td>426</td>\n",
              "      <td>47.22</td>\n",
              "      <td>146</td>\n",
              "      <td>0</td>\n",
              "      <td>2022-09-29 02:39:11</td>\n",
              "      <td>4616272</td>\n",
              "      <td>2022-09-29</td>\n",
              "      <td>2</td>\n",
              "      <td>2022</td>\n",
              "    </tr>\n",
              "    <tr>\n",
              "      <th>1341190</th>\n",
              "      <td>261</td>\n",
              "      <td>45.98</td>\n",
              "      <td>93</td>\n",
              "      <td>0</td>\n",
              "      <td>2022-09-23 09:43:03</td>\n",
              "      <td>4616226</td>\n",
              "      <td>2022-09-23</td>\n",
              "      <td>9</td>\n",
              "      <td>2022</td>\n",
              "    </tr>\n",
              "  </tbody>\n",
              "</table>\n",
              "</div>\n",
              "      <button class=\"colab-df-convert\" onclick=\"convertToInteractive('df-2f619f30-23fd-47d0-a16b-a802428bf2cd')\"\n",
              "              title=\"Convert this dataframe to an interactive table.\"\n",
              "              style=\"display:none;\">\n",
              "        \n",
              "  <svg xmlns=\"http://www.w3.org/2000/svg\" height=\"24px\"viewBox=\"0 0 24 24\"\n",
              "       width=\"24px\">\n",
              "    <path d=\"M0 0h24v24H0V0z\" fill=\"none\"/>\n",
              "    <path d=\"M18.56 5.44l.94 2.06.94-2.06 2.06-.94-2.06-.94-.94-2.06-.94 2.06-2.06.94zm-11 1L8.5 8.5l.94-2.06 2.06-.94-2.06-.94L8.5 2.5l-.94 2.06-2.06.94zm10 10l.94 2.06.94-2.06 2.06-.94-2.06-.94-.94-2.06-.94 2.06-2.06.94z\"/><path d=\"M17.41 7.96l-1.37-1.37c-.4-.4-.92-.59-1.43-.59-.52 0-1.04.2-1.43.59L10.3 9.45l-7.72 7.72c-.78.78-.78 2.05 0 2.83L4 21.41c.39.39.9.59 1.41.59.51 0 1.02-.2 1.41-.59l7.78-7.78 2.81-2.81c.8-.78.8-2.07 0-2.86zM5.41 20L4 18.59l7.72-7.72 1.47 1.35L5.41 20z\"/>\n",
              "  </svg>\n",
              "      </button>\n",
              "      \n",
              "  <style>\n",
              "    .colab-df-container {\n",
              "      display:flex;\n",
              "      flex-wrap:wrap;\n",
              "      gap: 12px;\n",
              "    }\n",
              "\n",
              "    .colab-df-convert {\n",
              "      background-color: #E8F0FE;\n",
              "      border: none;\n",
              "      border-radius: 50%;\n",
              "      cursor: pointer;\n",
              "      display: none;\n",
              "      fill: #1967D2;\n",
              "      height: 32px;\n",
              "      padding: 0 0 0 0;\n",
              "      width: 32px;\n",
              "    }\n",
              "\n",
              "    .colab-df-convert:hover {\n",
              "      background-color: #E2EBFA;\n",
              "      box-shadow: 0px 1px 2px rgba(60, 64, 67, 0.3), 0px 1px 3px 1px rgba(60, 64, 67, 0.15);\n",
              "      fill: #174EA6;\n",
              "    }\n",
              "\n",
              "    [theme=dark] .colab-df-convert {\n",
              "      background-color: #3B4455;\n",
              "      fill: #D2E3FC;\n",
              "    }\n",
              "\n",
              "    [theme=dark] .colab-df-convert:hover {\n",
              "      background-color: #434B5C;\n",
              "      box-shadow: 0px 1px 3px 1px rgba(0, 0, 0, 0.15);\n",
              "      filter: drop-shadow(0px 1px 2px rgba(0, 0, 0, 0.3));\n",
              "      fill: #FFFFFF;\n",
              "    }\n",
              "  </style>\n",
              "\n",
              "      <script>\n",
              "        const buttonEl =\n",
              "          document.querySelector('#df-2f619f30-23fd-47d0-a16b-a802428bf2cd button.colab-df-convert');\n",
              "        buttonEl.style.display =\n",
              "          google.colab.kernel.accessAllowed ? 'block' : 'none';\n",
              "\n",
              "        async function convertToInteractive(key) {\n",
              "          const element = document.querySelector('#df-2f619f30-23fd-47d0-a16b-a802428bf2cd');\n",
              "          const dataTable =\n",
              "            await google.colab.kernel.invokeFunction('convertToInteractive',\n",
              "                                                     [key], {});\n",
              "          if (!dataTable) return;\n",
              "\n",
              "          const docLinkHtml = 'Like what you see? Visit the ' +\n",
              "            '<a target=\"_blank\" href=https://colab.research.google.com/notebooks/data_table.ipynb>data table notebook</a>'\n",
              "            + ' to learn more about interactive tables.';\n",
              "          element.innerHTML = '';\n",
              "          dataTable['output_type'] = 'display_data';\n",
              "          await google.colab.output.renderOutput(dataTable, element);\n",
              "          const docLink = document.createElement('div');\n",
              "          docLink.innerHTML = docLinkHtml;\n",
              "          element.appendChild(docLink);\n",
              "        }\n",
              "      </script>\n",
              "    </div>\n",
              "  </div>\n",
              "  "
            ]
          },
          "metadata": {},
          "execution_count": 210
        }
      ]
    },
    {
      "cell_type": "code",
      "source": [
        "# Границы дат\n",
        "print(traff['date'].min())\n",
        "print(traff['date'].max())"
      ],
      "metadata": {
        "colab": {
          "base_uri": "https://localhost:8080/"
        },
        "id": "VPHCHX4tNWZn",
        "outputId": "67119305-ff32-456b-de97-3347da80429d"
      },
      "execution_count": 211,
      "outputs": [
        {
          "output_type": "stream",
          "name": "stdout",
          "text": [
            "2021-10-29\n",
            "2022-10-31\n"
          ]
        }
      ]
    },
    {
      "cell_type": "code",
      "source": [
        "# Усредняем скопрость по датчикам и дням\n",
        "traff_id = traff.pivot_table(index=['date', 'linkId'], values='Speed', aggfunc='mean').reset_index()\n",
        "traff_id"
      ],
      "metadata": {
        "colab": {
          "base_uri": "https://localhost:8080/",
          "height": 424
        },
        "id": "3lfpYOCgLS17",
        "outputId": "b1799aa0-b2c8-427b-a1d1-e6fb986badd9"
      },
      "execution_count": 212,
      "outputs": [
        {
          "output_type": "execute_result",
          "data": {
            "text/plain": [
              "            date   linkId      Speed\n",
              "0     2021-10-29  4616204   0.000000\n",
              "1     2021-10-29  4616205   0.000000\n",
              "2     2021-10-29  4616218   0.000000\n",
              "3     2021-10-29  4616219   0.000000\n",
              "4     2021-10-29  4763648   0.000000\n",
              "...          ...      ...        ...\n",
              "6865  2022-10-31  4620331  29.314181\n",
              "6866  2022-10-31  4620332  29.404983\n",
              "6867  2022-10-31  4620343   0.000000\n",
              "6868  2022-10-31  4763649   0.000000\n",
              "6869  2022-10-31  4763652   0.000000\n",
              "\n",
              "[6870 rows x 3 columns]"
            ],
            "text/html": [
              "\n",
              "  <div id=\"df-355e3f8a-d778-41ef-8069-4b2678d5aa0a\">\n",
              "    <div class=\"colab-df-container\">\n",
              "      <div>\n",
              "<style scoped>\n",
              "    .dataframe tbody tr th:only-of-type {\n",
              "        vertical-align: middle;\n",
              "    }\n",
              "\n",
              "    .dataframe tbody tr th {\n",
              "        vertical-align: top;\n",
              "    }\n",
              "\n",
              "    .dataframe thead th {\n",
              "        text-align: right;\n",
              "    }\n",
              "</style>\n",
              "<table border=\"1\" class=\"dataframe\">\n",
              "  <thead>\n",
              "    <tr style=\"text-align: right;\">\n",
              "      <th></th>\n",
              "      <th>date</th>\n",
              "      <th>linkId</th>\n",
              "      <th>Speed</th>\n",
              "    </tr>\n",
              "  </thead>\n",
              "  <tbody>\n",
              "    <tr>\n",
              "      <th>0</th>\n",
              "      <td>2021-10-29</td>\n",
              "      <td>4616204</td>\n",
              "      <td>0.000000</td>\n",
              "    </tr>\n",
              "    <tr>\n",
              "      <th>1</th>\n",
              "      <td>2021-10-29</td>\n",
              "      <td>4616205</td>\n",
              "      <td>0.000000</td>\n",
              "    </tr>\n",
              "    <tr>\n",
              "      <th>2</th>\n",
              "      <td>2021-10-29</td>\n",
              "      <td>4616218</td>\n",
              "      <td>0.000000</td>\n",
              "    </tr>\n",
              "    <tr>\n",
              "      <th>3</th>\n",
              "      <td>2021-10-29</td>\n",
              "      <td>4616219</td>\n",
              "      <td>0.000000</td>\n",
              "    </tr>\n",
              "    <tr>\n",
              "      <th>4</th>\n",
              "      <td>2021-10-29</td>\n",
              "      <td>4763648</td>\n",
              "      <td>0.000000</td>\n",
              "    </tr>\n",
              "    <tr>\n",
              "      <th>...</th>\n",
              "      <td>...</td>\n",
              "      <td>...</td>\n",
              "      <td>...</td>\n",
              "    </tr>\n",
              "    <tr>\n",
              "      <th>6865</th>\n",
              "      <td>2022-10-31</td>\n",
              "      <td>4620331</td>\n",
              "      <td>29.314181</td>\n",
              "    </tr>\n",
              "    <tr>\n",
              "      <th>6866</th>\n",
              "      <td>2022-10-31</td>\n",
              "      <td>4620332</td>\n",
              "      <td>29.404983</td>\n",
              "    </tr>\n",
              "    <tr>\n",
              "      <th>6867</th>\n",
              "      <td>2022-10-31</td>\n",
              "      <td>4620343</td>\n",
              "      <td>0.000000</td>\n",
              "    </tr>\n",
              "    <tr>\n",
              "      <th>6868</th>\n",
              "      <td>2022-10-31</td>\n",
              "      <td>4763649</td>\n",
              "      <td>0.000000</td>\n",
              "    </tr>\n",
              "    <tr>\n",
              "      <th>6869</th>\n",
              "      <td>2022-10-31</td>\n",
              "      <td>4763652</td>\n",
              "      <td>0.000000</td>\n",
              "    </tr>\n",
              "  </tbody>\n",
              "</table>\n",
              "<p>6870 rows × 3 columns</p>\n",
              "</div>\n",
              "      <button class=\"colab-df-convert\" onclick=\"convertToInteractive('df-355e3f8a-d778-41ef-8069-4b2678d5aa0a')\"\n",
              "              title=\"Convert this dataframe to an interactive table.\"\n",
              "              style=\"display:none;\">\n",
              "        \n",
              "  <svg xmlns=\"http://www.w3.org/2000/svg\" height=\"24px\"viewBox=\"0 0 24 24\"\n",
              "       width=\"24px\">\n",
              "    <path d=\"M0 0h24v24H0V0z\" fill=\"none\"/>\n",
              "    <path d=\"M18.56 5.44l.94 2.06.94-2.06 2.06-.94-2.06-.94-.94-2.06-.94 2.06-2.06.94zm-11 1L8.5 8.5l.94-2.06 2.06-.94-2.06-.94L8.5 2.5l-.94 2.06-2.06.94zm10 10l.94 2.06.94-2.06 2.06-.94-2.06-.94-.94-2.06-.94 2.06-2.06.94z\"/><path d=\"M17.41 7.96l-1.37-1.37c-.4-.4-.92-.59-1.43-.59-.52 0-1.04.2-1.43.59L10.3 9.45l-7.72 7.72c-.78.78-.78 2.05 0 2.83L4 21.41c.39.39.9.59 1.41.59.51 0 1.02-.2 1.41-.59l7.78-7.78 2.81-2.81c.8-.78.8-2.07 0-2.86zM5.41 20L4 18.59l7.72-7.72 1.47 1.35L5.41 20z\"/>\n",
              "  </svg>\n",
              "      </button>\n",
              "      \n",
              "  <style>\n",
              "    .colab-df-container {\n",
              "      display:flex;\n",
              "      flex-wrap:wrap;\n",
              "      gap: 12px;\n",
              "    }\n",
              "\n",
              "    .colab-df-convert {\n",
              "      background-color: #E8F0FE;\n",
              "      border: none;\n",
              "      border-radius: 50%;\n",
              "      cursor: pointer;\n",
              "      display: none;\n",
              "      fill: #1967D2;\n",
              "      height: 32px;\n",
              "      padding: 0 0 0 0;\n",
              "      width: 32px;\n",
              "    }\n",
              "\n",
              "    .colab-df-convert:hover {\n",
              "      background-color: #E2EBFA;\n",
              "      box-shadow: 0px 1px 2px rgba(60, 64, 67, 0.3), 0px 1px 3px 1px rgba(60, 64, 67, 0.15);\n",
              "      fill: #174EA6;\n",
              "    }\n",
              "\n",
              "    [theme=dark] .colab-df-convert {\n",
              "      background-color: #3B4455;\n",
              "      fill: #D2E3FC;\n",
              "    }\n",
              "\n",
              "    [theme=dark] .colab-df-convert:hover {\n",
              "      background-color: #434B5C;\n",
              "      box-shadow: 0px 1px 3px 1px rgba(0, 0, 0, 0.15);\n",
              "      filter: drop-shadow(0px 1px 2px rgba(0, 0, 0, 0.3));\n",
              "      fill: #FFFFFF;\n",
              "    }\n",
              "  </style>\n",
              "\n",
              "      <script>\n",
              "        const buttonEl =\n",
              "          document.querySelector('#df-355e3f8a-d778-41ef-8069-4b2678d5aa0a button.colab-df-convert');\n",
              "        buttonEl.style.display =\n",
              "          google.colab.kernel.accessAllowed ? 'block' : 'none';\n",
              "\n",
              "        async function convertToInteractive(key) {\n",
              "          const element = document.querySelector('#df-355e3f8a-d778-41ef-8069-4b2678d5aa0a');\n",
              "          const dataTable =\n",
              "            await google.colab.kernel.invokeFunction('convertToInteractive',\n",
              "                                                     [key], {});\n",
              "          if (!dataTable) return;\n",
              "\n",
              "          const docLinkHtml = 'Like what you see? Visit the ' +\n",
              "            '<a target=\"_blank\" href=https://colab.research.google.com/notebooks/data_table.ipynb>data table notebook</a>'\n",
              "            + ' to learn more about interactive tables.';\n",
              "          element.innerHTML = '';\n",
              "          dataTable['output_type'] = 'display_data';\n",
              "          await google.colab.output.renderOutput(dataTable, element);\n",
              "          const docLink = document.createElement('div');\n",
              "          docLink.innerHTML = docLinkHtml;\n",
              "          element.appendChild(docLink);\n",
              "        }\n",
              "      </script>\n",
              "    </div>\n",
              "  </div>\n",
              "  "
            ]
          },
          "metadata": {},
          "execution_count": 212
        }
      ]
    },
    {
      "cell_type": "code",
      "source": [
        "# Усредняем по дням\n",
        "traff_day = traff_id.pivot_table(index=['date'], values='Speed', aggfunc='mean').reset_index()\n",
        "traff_day.head()"
      ],
      "metadata": {
        "colab": {
          "base_uri": "https://localhost:8080/",
          "height": 206
        },
        "id": "Cm1KQhSHOuCY",
        "outputId": "44f125b4-d760-4c7e-f307-ad66bab51b8b"
      },
      "execution_count": 213,
      "outputs": [
        {
          "output_type": "execute_result",
          "data": {
            "text/plain": [
              "         date      Speed\n",
              "0  2021-10-29   0.000000\n",
              "1  2022-09-01  31.451836\n",
              "2  2022-09-02  32.077505\n",
              "3  2022-09-03  35.288038\n",
              "4  2022-09-04  35.298188"
            ],
            "text/html": [
              "\n",
              "  <div id=\"df-d6de467d-f6c7-4a0e-bdaa-5edcc1e184bc\">\n",
              "    <div class=\"colab-df-container\">\n",
              "      <div>\n",
              "<style scoped>\n",
              "    .dataframe tbody tr th:only-of-type {\n",
              "        vertical-align: middle;\n",
              "    }\n",
              "\n",
              "    .dataframe tbody tr th {\n",
              "        vertical-align: top;\n",
              "    }\n",
              "\n",
              "    .dataframe thead th {\n",
              "        text-align: right;\n",
              "    }\n",
              "</style>\n",
              "<table border=\"1\" class=\"dataframe\">\n",
              "  <thead>\n",
              "    <tr style=\"text-align: right;\">\n",
              "      <th></th>\n",
              "      <th>date</th>\n",
              "      <th>Speed</th>\n",
              "    </tr>\n",
              "  </thead>\n",
              "  <tbody>\n",
              "    <tr>\n",
              "      <th>0</th>\n",
              "      <td>2021-10-29</td>\n",
              "      <td>0.000000</td>\n",
              "    </tr>\n",
              "    <tr>\n",
              "      <th>1</th>\n",
              "      <td>2022-09-01</td>\n",
              "      <td>31.451836</td>\n",
              "    </tr>\n",
              "    <tr>\n",
              "      <th>2</th>\n",
              "      <td>2022-09-02</td>\n",
              "      <td>32.077505</td>\n",
              "    </tr>\n",
              "    <tr>\n",
              "      <th>3</th>\n",
              "      <td>2022-09-03</td>\n",
              "      <td>35.288038</td>\n",
              "    </tr>\n",
              "    <tr>\n",
              "      <th>4</th>\n",
              "      <td>2022-09-04</td>\n",
              "      <td>35.298188</td>\n",
              "    </tr>\n",
              "  </tbody>\n",
              "</table>\n",
              "</div>\n",
              "      <button class=\"colab-df-convert\" onclick=\"convertToInteractive('df-d6de467d-f6c7-4a0e-bdaa-5edcc1e184bc')\"\n",
              "              title=\"Convert this dataframe to an interactive table.\"\n",
              "              style=\"display:none;\">\n",
              "        \n",
              "  <svg xmlns=\"http://www.w3.org/2000/svg\" height=\"24px\"viewBox=\"0 0 24 24\"\n",
              "       width=\"24px\">\n",
              "    <path d=\"M0 0h24v24H0V0z\" fill=\"none\"/>\n",
              "    <path d=\"M18.56 5.44l.94 2.06.94-2.06 2.06-.94-2.06-.94-.94-2.06-.94 2.06-2.06.94zm-11 1L8.5 8.5l.94-2.06 2.06-.94-2.06-.94L8.5 2.5l-.94 2.06-2.06.94zm10 10l.94 2.06.94-2.06 2.06-.94-2.06-.94-.94-2.06-.94 2.06-2.06.94z\"/><path d=\"M17.41 7.96l-1.37-1.37c-.4-.4-.92-.59-1.43-.59-.52 0-1.04.2-1.43.59L10.3 9.45l-7.72 7.72c-.78.78-.78 2.05 0 2.83L4 21.41c.39.39.9.59 1.41.59.51 0 1.02-.2 1.41-.59l7.78-7.78 2.81-2.81c.8-.78.8-2.07 0-2.86zM5.41 20L4 18.59l7.72-7.72 1.47 1.35L5.41 20z\"/>\n",
              "  </svg>\n",
              "      </button>\n",
              "      \n",
              "  <style>\n",
              "    .colab-df-container {\n",
              "      display:flex;\n",
              "      flex-wrap:wrap;\n",
              "      gap: 12px;\n",
              "    }\n",
              "\n",
              "    .colab-df-convert {\n",
              "      background-color: #E8F0FE;\n",
              "      border: none;\n",
              "      border-radius: 50%;\n",
              "      cursor: pointer;\n",
              "      display: none;\n",
              "      fill: #1967D2;\n",
              "      height: 32px;\n",
              "      padding: 0 0 0 0;\n",
              "      width: 32px;\n",
              "    }\n",
              "\n",
              "    .colab-df-convert:hover {\n",
              "      background-color: #E2EBFA;\n",
              "      box-shadow: 0px 1px 2px rgba(60, 64, 67, 0.3), 0px 1px 3px 1px rgba(60, 64, 67, 0.15);\n",
              "      fill: #174EA6;\n",
              "    }\n",
              "\n",
              "    [theme=dark] .colab-df-convert {\n",
              "      background-color: #3B4455;\n",
              "      fill: #D2E3FC;\n",
              "    }\n",
              "\n",
              "    [theme=dark] .colab-df-convert:hover {\n",
              "      background-color: #434B5C;\n",
              "      box-shadow: 0px 1px 3px 1px rgba(0, 0, 0, 0.15);\n",
              "      filter: drop-shadow(0px 1px 2px rgba(0, 0, 0, 0.3));\n",
              "      fill: #FFFFFF;\n",
              "    }\n",
              "  </style>\n",
              "\n",
              "      <script>\n",
              "        const buttonEl =\n",
              "          document.querySelector('#df-d6de467d-f6c7-4a0e-bdaa-5edcc1e184bc button.colab-df-convert');\n",
              "        buttonEl.style.display =\n",
              "          google.colab.kernel.accessAllowed ? 'block' : 'none';\n",
              "\n",
              "        async function convertToInteractive(key) {\n",
              "          const element = document.querySelector('#df-d6de467d-f6c7-4a0e-bdaa-5edcc1e184bc');\n",
              "          const dataTable =\n",
              "            await google.colab.kernel.invokeFunction('convertToInteractive',\n",
              "                                                     [key], {});\n",
              "          if (!dataTable) return;\n",
              "\n",
              "          const docLinkHtml = 'Like what you see? Visit the ' +\n",
              "            '<a target=\"_blank\" href=https://colab.research.google.com/notebooks/data_table.ipynb>data table notebook</a>'\n",
              "            + ' to learn more about interactive tables.';\n",
              "          element.innerHTML = '';\n",
              "          dataTable['output_type'] = 'display_data';\n",
              "          await google.colab.output.renderOutput(dataTable, element);\n",
              "          const docLink = document.createElement('div');\n",
              "          docLink.innerHTML = docLinkHtml;\n",
              "          element.appendChild(docLink);\n",
              "        }\n",
              "      </script>\n",
              "    </div>\n",
              "  </div>\n",
              "  "
            ]
          },
          "metadata": {},
          "execution_count": 213
        }
      ]
    },
    {
      "cell_type": "code",
      "source": [
        "# Ср. скорость во времени\n",
        "plt.figure(figsize=(20, 4));\n",
        "sns.lineplot(data=traff_day, x='date', y='Speed');\n"
      ],
      "metadata": {
        "colab": {
          "base_uri": "https://localhost:8080/",
          "height": 279
        },
        "id": "a_3iL03OPu7z",
        "outputId": "251ee14f-86cb-4366-e10c-a1efe8f83078"
      },
      "execution_count": 214,
      "outputs": [
        {
          "output_type": "display_data",
          "data": {
            "text/plain": [
              "<Figure size 1440x288 with 1 Axes>"
            ],
            "image/png": "[encoded data removed]"
          },
          "metadata": {
            "needs_background": "light"
          }
        }
      ]
    },
    {
      "cell_type": "code",
      "source": [
        "plt.figure(figsize=(8, 3));\n",
        "sns.boxplot(x=traff_day['Speed']);"
      ],
      "metadata": {
        "colab": {
          "base_uri": "https://localhost:8080/",
          "height": 225
        },
        "id": "5_B5dHhaSrzX",
        "outputId": "44a41288-0429-4b9a-cf61-92a0a0b17681"
      },
      "execution_count": 216,
      "outputs": [
        {
          "output_type": "display_data",
          "data": {
            "text/plain": [
              "<Figure size 576x216 with 1 Axes>"
            ],
            "image/png": "[encoded data removed]"
          },
          "metadata": {
            "needs_background": "light"
          }
        }
      ]
    },
    {
      "cell_type": "code",
      "source": [
        "# Присоединяем к общей таблице по дням\n",
        "data_count = data_count.merge(traff_day, how='left', left_on='start_date', right_on='date')\n",
        "data_count.head()"
      ],
      "metadata": {
        "colab": {
          "base_uri": "https://localhost:8080/",
          "height": 386
        },
        "id": "IthjtMBlTh9W",
        "outputId": "10f79a04-f46b-465e-ac0b-f8da3fc81f8d"
      },
      "execution_count": 217,
      "outputs": [
        {
          "output_type": "execute_result",
          "data": {
            "text/plain": [
              "   start_date  casual_duration  member_duration  casual_count  member_count  \\\n",
              "0  2022-09-01        13.819325         8.816727          1259          2542   \n",
              "1  2022-09-02        15.208177         9.845765          1382          2333   \n",
              "2  2022-09-03        18.008899        10.448416          1480          1667   \n",
              "3  2022-09-04        18.446230        10.954201          1406          1490   \n",
              "4  2022-09-05        18.571291        10.114816          1193          1605   \n",
              "\n",
              "   count   duration  awnd  prcp  snow  ...  tmin   wdf2   wdf5  wsf2  wsf5  \\\n",
              "0   3801  11.318026   1.8   0.0   0.0  ...  20.6  310.0  300.0   6.3   9.4   \n",
              "1   3715  12.526971   1.7   0.0   0.0  ...  16.7   50.0   50.0   5.4   7.2   \n",
              "2   3147  14.228657   1.0   0.0   0.0  ...  18.3  150.0  120.0   3.1   6.3   \n",
              "3   2896  14.700216   1.2   0.0   0.0  ...  21.7  250.0  290.0   4.5   6.3   \n",
              "4   2798  14.343054   0.9   1.5   0.0  ...  22.8  180.0  190.0   4.0   7.6   \n",
              "\n",
              "    tavg      date_x    Speed_x      date_y    Speed_y  \n",
              "0  25.30  2022-09-01  28.230977  2022-09-01  31.451836  \n",
              "1  21.40  2022-09-02  29.546976  2022-09-02  32.077505  \n",
              "2  23.05  2022-09-03  32.965256  2022-09-03  35.288038  \n",
              "3  26.95  2022-09-04  33.424074  2022-09-04  35.298188  \n",
              "4  26.95  2022-09-05  36.389489  2022-09-05  37.550312  \n",
              "\n",
              "[5 rows x 22 columns]"
            ],
            "text/html": [
              "\n",
              "  <div id=\"df-f687a55f-f7ab-4cc8-991d-6b39fe893cc1\">\n",
              "    <div class=\"colab-df-container\">\n",
              "      <div>\n",
              "<style scoped>\n",
              "    .dataframe tbody tr th:only-of-type {\n",
              "        vertical-align: middle;\n",
              "    }\n",
              "\n",
              "    .dataframe tbody tr th {\n",
              "        vertical-align: top;\n",
              "    }\n",
              "\n",
              "    .dataframe thead th {\n",
              "        text-align: right;\n",
              "    }\n",
              "</style>\n",
              "<table border=\"1\" class=\"dataframe\">\n",
              "  <thead>\n",
              "    <tr style=\"text-align: right;\">\n",
              "      <th></th>\n",
              "      <th>start_date</th>\n",
              "      <th>casual_duration</th>\n",
              "      <th>member_duration</th>\n",
              "      <th>casual_count</th>\n",
              "      <th>member_count</th>\n",
              "      <th>count</th>\n",
              "      <th>duration</th>\n",
              "      <th>awnd</th>\n",
              "      <th>prcp</th>\n",
              "      <th>snow</th>\n",
              "      <th>...</th>\n",
              "      <th>tmin</th>\n",
              "      <th>wdf2</th>\n",
              "      <th>wdf5</th>\n",
              "      <th>wsf2</th>\n",
              "      <th>wsf5</th>\n",
              "      <th>tavg</th>\n",
              "      <th>date_x</th>\n",
              "      <th>Speed_x</th>\n",
              "      <th>date_y</th>\n",
              "      <th>Speed_y</th>\n",
              "    </tr>\n",
              "  </thead>\n",
              "  <tbody>\n",
              "    <tr>\n",
              "      <th>0</th>\n",
              "      <td>2022-09-01</td>\n",
              "      <td>13.819325</td>\n",
              "      <td>8.816727</td>\n",
              "      <td>1259</td>\n",
              "      <td>2542</td>\n",
              "      <td>3801</td>\n",
              "      <td>11.318026</td>\n",
              "      <td>1.8</td>\n",
              "      <td>0.0</td>\n",
              "      <td>0.0</td>\n",
              "      <td>...</td>\n",
              "      <td>20.6</td>\n",
              "      <td>310.0</td>\n",
              "      <td>300.0</td>\n",
              "      <td>6.3</td>\n",
              "      <td>9.4</td>\n",
              "      <td>25.30</td>\n",
              "      <td>2022-09-01</td>\n",
              "      <td>28.230977</td>\n",
              "      <td>2022-09-01</td>\n",
              "      <td>31.451836</td>\n",
              "    </tr>\n",
              "    <tr>\n",
              "      <th>1</th>\n",
              "      <td>2022-09-02</td>\n",
              "      <td>15.208177</td>\n",
              "      <td>9.845765</td>\n",
              "      <td>1382</td>\n",
              "      <td>2333</td>\n",
              "      <td>3715</td>\n",
              "      <td>12.526971</td>\n",
              "      <td>1.7</td>\n",
              "      <td>0.0</td>\n",
              "      <td>0.0</td>\n",
              "      <td>...</td>\n",
              "      <td>16.7</td>\n",
              "      <td>50.0</td>\n",
              "      <td>50.0</td>\n",
              "      <td>5.4</td>\n",
              "      <td>7.2</td>\n",
              "      <td>21.40</td>\n",
              "      <td>2022-09-02</td>\n",
              "      <td>29.546976</td>\n",
              "      <td>2022-09-02</td>\n",
              "      <td>32.077505</td>\n",
              "    </tr>\n",
              "    <tr>\n",
              "      <th>2</th>\n",
              "      <td>2022-09-03</td>\n",
              "      <td>18.008899</td>\n",
              "      <td>10.448416</td>\n",
              "      <td>1480</td>\n",
              "      <td>1667</td>\n",
              "      <td>3147</td>\n",
              "      <td>14.228657</td>\n",
              "      <td>1.0</td>\n",
              "      <td>0.0</td>\n",
              "      <td>0.0</td>\n",
              "      <td>...</td>\n",
              "      <td>18.3</td>\n",
              "      <td>150.0</td>\n",
              "      <td>120.0</td>\n",
              "      <td>3.1</td>\n",
              "      <td>6.3</td>\n",
              "      <td>23.05</td>\n",
              "      <td>2022-09-03</td>\n",
              "      <td>32.965256</td>\n",
              "      <td>2022-09-03</td>\n",
              "      <td>35.288038</td>\n",
              "    </tr>\n",
              "    <tr>\n",
              "      <th>3</th>\n",
              "      <td>2022-09-04</td>\n",
              "      <td>18.446230</td>\n",
              "      <td>10.954201</td>\n",
              "      <td>1406</td>\n",
              "      <td>1490</td>\n",
              "      <td>2896</td>\n",
              "      <td>14.700216</td>\n",
              "      <td>1.2</td>\n",
              "      <td>0.0</td>\n",
              "      <td>0.0</td>\n",
              "      <td>...</td>\n",
              "      <td>21.7</td>\n",
              "      <td>250.0</td>\n",
              "      <td>290.0</td>\n",
              "      <td>4.5</td>\n",
              "      <td>6.3</td>\n",
              "      <td>26.95</td>\n",
              "      <td>2022-09-04</td>\n",
              "      <td>33.424074</td>\n",
              "      <td>2022-09-04</td>\n",
              "      <td>35.298188</td>\n",
              "    </tr>\n",
              "    <tr>\n",
              "      <th>4</th>\n",
              "      <td>2022-09-05</td>\n",
              "      <td>18.571291</td>\n",
              "      <td>10.114816</td>\n",
              "      <td>1193</td>\n",
              "      <td>1605</td>\n",
              "      <td>2798</td>\n",
              "      <td>14.343054</td>\n",
              "      <td>0.9</td>\n",
              "      <td>1.5</td>\n",
              "      <td>0.0</td>\n",
              "      <td>...</td>\n",
              "      <td>22.8</td>\n",
              "      <td>180.0</td>\n",
              "      <td>190.0</td>\n",
              "      <td>4.0</td>\n",
              "      <td>7.6</td>\n",
              "      <td>26.95</td>\n",
              "      <td>2022-09-05</td>\n",
              "      <td>36.389489</td>\n",
              "      <td>2022-09-05</td>\n",
              "      <td>37.550312</td>\n",
              "    </tr>\n",
              "  </tbody>\n",
              "</table>\n",
              "<p>5 rows × 22 columns</p>\n",
              "</div>\n",
              "      <button class=\"colab-df-convert\" onclick=\"convertToInteractive('df-f687a55f-f7ab-4cc8-991d-6b39fe893cc1')\"\n",
              "              title=\"Convert this dataframe to an interactive table.\"\n",
              "              style=\"display:none;\">\n",
              "        \n",
              "  <svg xmlns=\"http://www.w3.org/2000/svg\" height=\"24px\"viewBox=\"0 0 24 24\"\n",
              "       width=\"24px\">\n",
              "    <path d=\"M0 0h24v24H0V0z\" fill=\"none\"/>\n",
              "    <path d=\"M18.56 5.44l.94 2.06.94-2.06 2.06-.94-2.06-.94-.94-2.06-.94 2.06-2.06.94zm-11 1L8.5 8.5l.94-2.06 2.06-.94-2.06-.94L8.5 2.5l-.94 2.06-2.06.94zm10 10l.94 2.06.94-2.06 2.06-.94-2.06-.94-.94-2.06-.94 2.06-2.06.94z\"/><path d=\"M17.41 7.96l-1.37-1.37c-.4-.4-.92-.59-1.43-.59-.52 0-1.04.2-1.43.59L10.3 9.45l-7.72 7.72c-.78.78-.78 2.05 0 2.83L4 21.41c.39.39.9.59 1.41.59.51 0 1.02-.2 1.41-.59l7.78-7.78 2.81-2.81c.8-.78.8-2.07 0-2.86zM5.41 20L4 18.59l7.72-7.72 1.47 1.35L5.41 20z\"/>\n",
              "  </svg>\n",
              "      </button>\n",
              "      \n",
              "  <style>\n",
              "    .colab-df-container {\n",
              "      display:flex;\n",
              "      flex-wrap:wrap;\n",
              "      gap: 12px;\n",
              "    }\n",
              "\n",
              "    .colab-df-convert {\n",
              "      background-color: #E8F0FE;\n",
              "      border: none;\n",
              "      border-radius: 50%;\n",
              "      cursor: pointer;\n",
              "      display: none;\n",
              "      fill: #1967D2;\n",
              "      height: 32px;\n",
              "      padding: 0 0 0 0;\n",
              "      width: 32px;\n",
              "    }\n",
              "\n",
              "    .colab-df-convert:hover {\n",
              "      background-color: #E2EBFA;\n",
              "      box-shadow: 0px 1px 2px rgba(60, 64, 67, 0.3), 0px 1px 3px 1px rgba(60, 64, 67, 0.15);\n",
              "      fill: #174EA6;\n",
              "    }\n",
              "\n",
              "    [theme=dark] .colab-df-convert {\n",
              "      background-color: #3B4455;\n",
              "      fill: #D2E3FC;\n",
              "    }\n",
              "\n",
              "    [theme=dark] .colab-df-convert:hover {\n",
              "      background-color: #434B5C;\n",
              "      box-shadow: 0px 1px 3px 1px rgba(0, 0, 0, 0.15);\n",
              "      filter: drop-shadow(0px 1px 2px rgba(0, 0, 0, 0.3));\n",
              "      fill: #FFFFFF;\n",
              "    }\n",
              "  </style>\n",
              "\n",
              "      <script>\n",
              "        const buttonEl =\n",
              "          document.querySelector('#df-f687a55f-f7ab-4cc8-991d-6b39fe893cc1 button.colab-df-convert');\n",
              "        buttonEl.style.display =\n",
              "          google.colab.kernel.accessAllowed ? 'block' : 'none';\n",
              "\n",
              "        async function convertToInteractive(key) {\n",
              "          const element = document.querySelector('#df-f687a55f-f7ab-4cc8-991d-6b39fe893cc1');\n",
              "          const dataTable =\n",
              "            await google.colab.kernel.invokeFunction('convertToInteractive',\n",
              "                                                     [key], {});\n",
              "          if (!dataTable) return;\n",
              "\n",
              "          const docLinkHtml = 'Like what you see? Visit the ' +\n",
              "            '<a target=\"_blank\" href=https://colab.research.google.com/notebooks/data_table.ipynb>data table notebook</a>'\n",
              "            + ' to learn more about interactive tables.';\n",
              "          element.innerHTML = '';\n",
              "          dataTable['output_type'] = 'display_data';\n",
              "          await google.colab.output.renderOutput(dataTable, element);\n",
              "          const docLink = document.createElement('div');\n",
              "          docLink.innerHTML = docLinkHtml;\n",
              "          element.appendChild(docLink);\n",
              "        }\n",
              "      </script>\n",
              "    </div>\n",
              "  </div>\n",
              "  "
            ]
          },
          "metadata": {},
          "execution_count": 217
        }
      ]
    },
    {
      "cell_type": "code",
      "source": [
        "# Строим общую матрицу корреляций, со скоростью\n",
        "plt.figure(figsize=(15, 6));\n",
        "sns.heatmap(round(data_count.corr(), 2), linewidths=.5, annot = True, cmap='coolwarm').set_title('Матрица корреляции');"
      ],
      "metadata": {
        "colab": {
          "base_uri": "https://localhost:8080/",
          "height": 469
        },
        "id": "rKUMvVbRT820",
        "outputId": "e3f3da22-ba40-4659-b814-77b0f4858c0e"
      },
      "execution_count": 126,
      "outputs": [
        {
          "output_type": "display_data",
          "data": {
            "text/plain": [
              "<Figure size 1080x432 with 2 Axes>"
            ],
            "image/png": "[encoded data removed]"
          },
          "metadata": {
            "needs_background": "light"
          }
        }
      ]
    },
    {
      "cell_type": "markdown",
      "source": [
        "Источник данных у траффик спорный - с пропущенными днями. К тому же, ср. скорость бралась независимо от местоположения датчиков. Но в один район может быть загружен, а другой нет, а средняя берётся от обоих.\n",
        "\n",
        "Но даже на этих данных видна слабая отрицательная корреляция между скоростью и количество поездок у member *(r = -0,35)*. На эту связь мог повлиять 3-й фактор - например, плохая погода, в которую предпочитают больше автомобили."
      ],
      "metadata": {
        "id": "lSMSmAaze9Py"
      }
    },
    {
      "cell_type": "code",
      "source": [
        "# Отправляем в базу\n",
        "mydb = db_connect()\n",
        "\n",
        "if mydb:\n",
        "  traff_day.to_sql(con=mydb, name='traffic', if_exists='replace')"
      ],
      "metadata": {
        "colab": {
          "base_uri": "https://localhost:8080/"
        },
        "id": "lvZPpSIJPTqG",
        "outputId": "f315a7e3-99ca-4c12-a914-bd9007f0bd1c"
      },
      "execution_count": null,
      "outputs": [
        {
          "output_type": "stream",
          "name": "stdout",
          "text": [
            "Connected mysql\n"
          ]
        }
      ]
    },
    {
      "cell_type": "markdown",
      "source": [
        "# Проверка гипотез"
      ],
      "metadata": {
        "id": "IsegoeqmrSMn"
      }
    },
    {
      "cell_type": "markdown",
      "source": [
        "Проверим гипотезы о среднем на стат. значимость."
      ],
      "metadata": {
        "id": "kslsnSY7rV-V"
      }
    },
    {
      "cell_type": "markdown",
      "source": [
        "## Гипотеза 1"
      ],
      "metadata": {
        "id": "Gzn0gj_TsNNy"
      }
    },
    {
      "cell_type": "markdown",
      "source": [
        "**Нулевая гипотеза**: средняя длительность аренды между типами клиентов (`member` и `casual`) не различаются.<br />\n",
        "**Альтернативная гипотеза**: средняя длительность аренды между группами различаются"
      ],
      "metadata": {
        "id": "msE1f2VBrYZq"
      }
    },
    {
      "cell_type": "code",
      "source": [
        "# Функция проверки гипотез\n",
        "def test_hip(data1, data2, alpha = 0.01):\n",
        "    results = st.mannwhitneyu(data1, data2)\n",
        "\n",
        "    print('p-значение: ', results.pvalue)\n",
        "\n",
        "    if results.pvalue < alpha:\n",
        "        print('Отвергаем нулевую гипотезу: разница статистически значима')\n",
        "    else:\n",
        "        print(\n",
        "            'Не получилось отвергнуть нулевую гипотезу, вывод о различии сделать нельзя'\n",
        "        ) "
      ],
      "metadata": {
        "id": "dKiqj_xbrDFu"
      },
      "execution_count": 232,
      "outputs": []
    },
    {
      "cell_type": "code",
      "source": [
        "test_hip(data_count['member_duration'], data_count['casual_duration'])"
      ],
      "metadata": {
        "colab": {
          "base_uri": "https://localhost:8080/"
        },
        "id": "uKXN4kJgrl-X",
        "outputId": "14b0cec3-13ed-4bd3-db76-517668d62baa"
      },
      "execution_count": 233,
      "outputs": [
        {
          "output_type": "stream",
          "name": "stdout",
          "text": [
            "p-значение:  5.36443009402627e-19\n",
            "Отвергаем нулевую гипотезу: разница статистически значима\n"
          ]
        }
      ]
    },
    {
      "cell_type": "markdown",
      "source": [
        "Итог: Отвергаем нулевую гипотезу - **среднее количество поездок между группами различаются**."
      ],
      "metadata": {
        "id": "jTUZVjH8rr2J"
      }
    },
    {
      "cell_type": "markdown",
      "source": [
        "## Гипотеза 2"
      ],
      "metadata": {
        "id": "DQIsJSGssQNq"
      }
    },
    {
      "cell_type": "markdown",
      "source": [
        "**Нулевая гипотеза**: среднее количество поездок между типами клиентов (`member` и `casual`) не различаются.<br />\n",
        "**Альтернативная гипотеза**: среднее количество поездок между группами различаются"
      ],
      "metadata": {
        "id": "Q3usR_03r7TC"
      }
    },
    {
      "cell_type": "code",
      "source": [
        "test_hip(data_count['member_count'], data_count['casual_count'])"
      ],
      "metadata": {
        "colab": {
          "base_uri": "https://localhost:8080/"
        },
        "id": "y2O9buqTr2Jn",
        "outputId": "0dd9d60b-397e-4995-96b8-e7cf2f8b14f8"
      },
      "execution_count": 234,
      "outputs": [
        {
          "output_type": "stream",
          "name": "stdout",
          "text": [
            "p-значение:  7.351391100159901e-17\n",
            "Отвергаем нулевую гипотезу: разница статистически значима\n"
          ]
        }
      ]
    },
    {
      "cell_type": "markdown",
      "source": [
        "Итог: Отвергаем нулевую гипотезу - **среднее количество поездок между группами различаются**."
      ],
      "metadata": {
        "id": "buvk0jC5sEnz"
      }
    },
    {
      "cell_type": "markdown",
      "source": [
        "# Выводы"
      ],
      "metadata": {
        "id": "qgrq3hthjCT4"
      }
    },
    {
      "cell_type": "markdown",
      "source": [
        "Интерактивный дашборд по ссылке - https://datalens.yandex/3oe7x2bnzxtcu\n",
        "\n",
        "**По дням и часам**\n",
        "* Спрос среди “случайных” (casual) поездок выше в выходные - особенно, в субботу. Видимо, эта когорта больше использует прокат с прогулочно-развлекательной целью.\n",
        "* Member больше пользуются в рабочие будни.\n",
        "* Суммарно видно, что пик спроса приходится на на утренние и вечерние часы.\n",
        "* Но выраженные пики видны у типа клиентов member. Видимо, этот тип клиентов использует велосипеды, как альтернативу транспорта - с работы и обратно. Это доказывает и форма графиков в выходные - разница между типами клиентов практически не видна.\n",
        "* Casual больше предпочитают электробайки, чем member: 30% против 20%.\n",
        "* Ср. длительность поездок у casual больше во всех видах, чем у member. Это ещё больше подтверждает гипотезу, что member больше используется как транспорт, а casual - для развлечений и прогулок.\n",
        "* 99% поездок с длительностью до 96 минут.\n",
        "* 90% поездок входят в стандартный пакет до 30 минут, который включен в стоимость.\n",
        "* Средняя продолжительность и количество поездок между группами клиентов (member и casual) - отличаются. Разница статистически значима (p < 0,01)\n",
        "\n",
        "**Погода**\n",
        "* Ср. продолжительность поездок коррелирует со ср. максимальной температурой за день (r = 0,55). Чем теплее на улице днём - тем больше поездок (0,45) и ср. продолжительность поездки. Особенно это влияет на тип клиентов casual - корреляция больше на 0,1.\n",
        "\n",
        "* Имеет значение ср. скорость ветра, особенно макс. за 2 минуты.\n",
        "\n",
        "* Провал 3 октября коррелирует с пониженной температурой, обильными осадками и сильной скоростью ветра.\n",
        "\n",
        "* Количество осадков (мм) средне коррелирует с количеством поездок (-0,58), но меньше на ср. продолжительность поездки. Все провалы на графике количества поездок - из-за обильных осадков.\n",
        "\n",
        "\n",
        "**Трафик**\n",
        "* Источник данных у траффик спорный - с пропущенными днями. К тому же, ср. скорость бралась независимо от местоположения датчиков. Но в один район может быть загружен, а другой нет, а средняя берётся от обоих.\n",
        "Но даже на этих данных видна слабая отрицательная корреляция между скоростью и количество поездок у member (r = -0,35). На эту связь мог повлиять 3-й фактор - например, плохая погода, в которую предпочитают больше автомобили."
      ],
      "metadata": {
        "id": "VZAXs8QLjEEI"
      }
    }
  ]
}